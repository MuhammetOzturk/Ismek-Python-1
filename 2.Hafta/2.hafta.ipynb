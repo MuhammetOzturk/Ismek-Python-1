{
 "cells": [
  {
   "cell_type": "markdown",
   "id": "5e319ca0-b395-4741-b5a1-2644c36219d0",
   "metadata": {},
   "source": [
    "![spyder-arayuz.jpeg](spyder-arayuz.jpeg)\n",
    "\n",
    "\n",
    "- Calisma dizini\n",
    "- Spyder da \"#%%\" ifadesi ile yeni bolum olusturulur.\n",
    "- ctrl+enter ile bolum calistirlir.\n",
    "- F9 ile bulunulan satir calistirilir.\n",
    "- shift + enter ile bolum calistirlir ve bir sonraki bolume gecilir.\n",
    "- ctrl + s ile kaydedilir.\n"
   ]
  },
  {
   "cell_type": "markdown",
   "id": "b847c502-77b4-4205-867a-b1878b31d6cd",
   "metadata": {},
   "source": [
    "Spyder, Python programlama dili için geliştirilmiş bir entegre geliştirme ortamıdır (IDE). Spyder, bilimsel hesaplamalar, veri analizi ve veri görselleştirmesi gibi görevler için özellikle kullanışlı olan birçok özelliği içinde barındırır.\n",
    "\n",
    "### Spyder IDE Kullanımı\n",
    "\n",
    "#### 1. **Kurulum:**\n",
    "   Spyder'ı kullanmaya başlamadan önce, [Anaconda](https://www.anaconda.com/products/individual) gibi bir Python dağıtımını yüklemeniz önerilir. Spyder, Anaconda'nın bir parçası olarak gelir, ancak ayrı olarak da yüklenebilir.\n",
    "\n",
    "#### 2. **Spyder'ı Başlatma:**\n",
    "   Spyder'ı yükledikten sonra, başlatmak için uygulama menünüzden veya terminal/command prompt üzerinden `spyder` komutunu kullanabilirsiniz.\n",
    "\n",
    "#### 3. **Arayüz:**\n",
    "   Spyder'ın arayüzü, üst kısımda menüler, sol tarafta dosya gezgini, ortada editör ve sağ tarafta etkileşimli konsol gibi panelleri içerir.\n",
    "\n",
    "#### 4. **Proje Oluşturma:**\n",
    "   Projeler, ilgili dosyaları ve kaynakları bir araya getirmenizi sağlar. Menü çubuğundan `File -> New Project` seçeneğiyle yeni bir proje oluşturabilirsiniz.\n",
    "\n",
    "#### 5. **Dosya ve Dizin Yönetimi:**\n",
    "   Spyder, projenizdeki dosyaları düzenlemeniz ve gezinmeniz için bir dosya gezgini sağlar. Yeni dosyalar oluşturabilir, mevcut dosyaları düzenleyebilir ve projenizi organize edebilirsiniz.\n",
    "\n",
    "#### 6. **Editör Kullanımı:**\n",
    "   Ana editör, Python kodunuzu yazmanız ve düzenlemeniz için kullanılır. Otomatik tamamlama, hata denetimi ve satır numaraları gibi özelliklerle kod yazımınızı kolaylaştırır.\n",
    "\n",
    "#### 7. **Etkileşimli Konsol:**\n",
    "   Sağ taraftaki etkileşimli konsol, Python kodunu adım adım çalıştırmanıza ve sonuçları anında görmeye olanak tanır. Kodunuzu test etmek ve hızlı denemeler yapmak için idealdir.\n",
    "\n",
    "#### 8. **Veri İnceleme ve Görselleştirme:**\n",
    "   Spyder, veri analizi ve görselleştirmesi için güçlü araçlar içerir. Pandas, NumPy ve Matplotlib gibi kütüphaneleri kullanarak veri setlerinizi analiz edebilir ve görselleştirebilirsiniz.\n",
    "\n",
    "#### 9. **Debugger Kullanımı:**\n",
    "   Hata ayıklama (debugging) için entegre bir araç olan Debugger, kodunuzu adım adım izlemenizi ve hataları tespit etmenizi sağlar.\n",
    "\n",
    "#### 10. **Uzantılar ve Eklentiler:**\n",
    "   Spyder, kullanıcıların ihtiyaçlarına uygun olarak çeşitli eklentiler ve uzantılar ekleyebilecekleri bir yapı sunar. Bu sayede iş akışınızı özelleştirebilirsiniz.\n"
   ]
  },
  {
   "cell_type": "markdown",
   "id": "578d88c1-552b-4b27-972e-585e7f770cee",
   "metadata": {},
   "source": [
    "### Hatirlatma Sorulari"
   ]
  },
  {
   "cell_type": "code",
   "execution_count": null,
   "id": "4a2bd080-e6ec-4d8f-9ef7-9fae7dbd8563",
   "metadata": {},
   "outputs": [],
   "source": [
    "metin = \"\"\"\n",
    "Gençler cesaretimizi takviye ve idame eden sizlersiniz.\n",
    "Siz, almakta olduğunuz terbiye ve irfan ile insanlık ve medeniyetin, vatan sevgisinin, fikir hürriyetinin en kıymetli timsali olacaksınız. \n",
    "Yükselen yeni nesil, istikbal sizsiniz. \n",
    "Cumhuriyeti biz kurduk, onu yükseltecek ve yaşatacak sizsiniz.\n",
    "Ataturk\n",
    "\"\"\"\n",
    "\n",
    "kisa_metin = \"\\n\\n\\nCahil insan, gül ise de koklama.\\n\\n\""
   ]
  },
  {
   "cell_type": "code",
   "execution_count": null,
   "id": "7041f06a-3d44-47e0-bf14-972c9e010e1d",
   "metadata": {},
   "outputs": [],
   "source": [
    "print(metin.strip())"
   ]
  },
  {
   "cell_type": "code",
   "execution_count": null,
   "id": "ba88c124-954e-45f5-9204-73e89a442a7b",
   "metadata": {},
   "outputs": [],
   "source": [
    "print('--'*10)\n",
    "print(metin)\n",
    "print('--'*10)\n",
    "print(metin.strip())\n",
    "print('--'*10)"
   ]
  },
  {
   "cell_type": "code",
   "execution_count": null,
   "id": "d222e03f-aa9a-4e8e-8699-3ab4c1a24bd2",
   "metadata": {},
   "outputs": [],
   "source": [
    "print(metin.upper())"
   ]
  },
  {
   "cell_type": "code",
   "execution_count": null,
   "id": "216e25c6-5e2b-456d-98bf-d811b5b8b6ce",
   "metadata": {},
   "outputs": [],
   "source": [
    "print(metin.lower())"
   ]
  },
  {
   "cell_type": "code",
   "execution_count": null,
   "id": "64cd7ae8-d37a-4a65-b0b0-443e8cec6791",
   "metadata": {},
   "outputs": [],
   "source": [
    "print(metin.replace('Ataturk', 'Mustafa Kemal Ataturk'))"
   ]
  },
  {
   "cell_type": "code",
   "execution_count": null,
   "id": "ced6c5b2-ec02-4b0a-b5a7-08d49cf00b44",
   "metadata": {},
   "outputs": [],
   "source": [
    "print(metin.split('\\n'))"
   ]
  },
  {
   "cell_type": "code",
   "execution_count": null,
   "id": "eb52237c-8e90-44d5-8d32-d1a7f3255308",
   "metadata": {},
   "outputs": [],
   "source": [
    "'Ataturk' in metin"
   ]
  },
  {
   "cell_type": "code",
   "execution_count": null,
   "id": "ee7047ce-076a-4ca9-ae77-e762c947ee9e",
   "metadata": {},
   "outputs": [],
   "source": [
    "x = '10'\n",
    "x.isdigit()"
   ]
  },
  {
   "cell_type": "code",
   "execution_count": null,
   "id": "675bf7b1-9b82-4c35-a252-763a24ad6b33",
   "metadata": {},
   "outputs": [],
   "source": [
    "x = '10.1'\n",
    "x.isdigit()"
   ]
  },
  {
   "cell_type": "markdown",
   "id": "06b67f99-a508-43d2-af48-0986e7923dea",
   "metadata": {},
   "source": [
    "### Listeler"
   ]
  },
  {
   "cell_type": "code",
   "execution_count": null,
   "id": "855ede1c-d374-4ec3-aa62-9000d7d13443",
   "metadata": {},
   "outputs": [],
   "source": [
    "satirlar = metin.strip().split('\\n')\n",
    "satirlar"
   ]
  },
  {
   "cell_type": "code",
   "execution_count": null,
   "id": "07bec872-f30e-49b8-888b-f2247300dd4d",
   "metadata": {},
   "outputs": [],
   "source": [
    "satirlar[-1]"
   ]
  },
  {
   "cell_type": "code",
   "execution_count": null,
   "id": "a58fa81e-b98d-4c70-935f-9454bff66d1a",
   "metadata": {},
   "outputs": [],
   "source": [
    "satirlar[0]"
   ]
  },
  {
   "cell_type": "code",
   "execution_count": null,
   "id": "1b4c5f80-252a-454e-bbea-11af7880dae9",
   "metadata": {},
   "outputs": [],
   "source": [
    "satirlar[-1] = \"Mustafa Kemal Ataturk\"\n",
    "satirlar"
   ]
  },
  {
   "cell_type": "code",
   "execution_count": null,
   "id": "093f425d-002a-4da4-a751-bcd5191e7f8c",
   "metadata": {},
   "outputs": [],
   "source": [
    "'**'.join(satirlar)"
   ]
  },
  {
   "cell_type": "code",
   "execution_count": null,
   "id": "02b12758-c90e-4d6d-a189-ae13e1222dac",
   "metadata": {},
   "outputs": [],
   "source": [
    "satirlar[0] + '**' + satirlar[1]"
   ]
  },
  {
   "cell_type": "code",
   "execution_count": null,
   "id": "5f37b28d-f17d-4cdd-ae35-afaa003a8883",
   "metadata": {},
   "outputs": [],
   "source": [
    "satirlar.append('SON')\n",
    "satirlar"
   ]
  },
  {
   "cell_type": "code",
   "execution_count": null,
   "id": "4a3a2e60-05e4-4dbf-b06b-3ff927b161d7",
   "metadata": {},
   "outputs": [],
   "source": [
    "del satirlar[-1]\n",
    "satirlar"
   ]
  },
  {
   "cell_type": "code",
   "execution_count": null,
   "id": "74a5591a-008f-46de-9b5f-9ebf995c46d9",
   "metadata": {},
   "outputs": [],
   "source": [
    "yeni_kisa_metin = [kisa_metin.strip()]\n",
    "yeni_kisa_metin"
   ]
  },
  {
   "cell_type": "code",
   "execution_count": null,
   "id": "6a195288-3b69-46e7-95d5-54a1ed33c7e0",
   "metadata": {},
   "outputs": [],
   "source": [
    "satirlar + yeni_kisa_metin"
   ]
  },
  {
   "cell_type": "markdown",
   "id": "27ad8bf9-aef1-4e00-9918-e1bc2f825804",
   "metadata": {},
   "source": [
    "### Demetler"
   ]
  },
  {
   "cell_type": "code",
   "execution_count": null,
   "id": "b295efef-f30e-4dda-8a19-dc2b861ab5f7",
   "metadata": {},
   "outputs": [],
   "source": [
    "demetler = tuple(satirlar)\n",
    "demetler"
   ]
  },
  {
   "cell_type": "code",
   "execution_count": null,
   "id": "59acc3c0-be32-4b30-903e-4d9ecf45da8a",
   "metadata": {},
   "outputs": [],
   "source": [
    "demetler[0]"
   ]
  },
  {
   "cell_type": "code",
   "execution_count": null,
   "id": "a2f33033-52b4-464f-8e7a-b8ecf3dacec8",
   "metadata": {},
   "outputs": [],
   "source": [
    "demetler[-1]"
   ]
  },
  {
   "cell_type": "code",
   "execution_count": null,
   "id": "f02855a5-b5cf-4fec-ba3e-c1c5926fce67",
   "metadata": {},
   "outputs": [],
   "source": [
    "demetler[1:]"
   ]
  },
  {
   "cell_type": "code",
   "execution_count": null,
   "id": "a8edc932-991a-4743-96dc-32da45b9d071",
   "metadata": {},
   "outputs": [],
   "source": [
    "demetler.count('Mustafa Kemal Ataturk')"
   ]
  },
  {
   "cell_type": "code",
   "execution_count": null,
   "id": "71c8bf14-d05d-4e9e-9168-00f25ad4cbd7",
   "metadata": {},
   "outputs": [],
   "source": [
    "demetler.count('ile')"
   ]
  },
  {
   "cell_type": "markdown",
   "id": "dc1be97f-3896-4bb4-9f05-4b470cb0d2bb",
   "metadata": {},
   "source": [
    "### Kumeler"
   ]
  },
  {
   "cell_type": "code",
   "execution_count": null,
   "id": "08526e82-2053-468a-bdee-6558c92c59fc",
   "metadata": {},
   "outputs": [],
   "source": [
    "kume1 = {1,2,3,4,5}\n",
    "kume2 = {3,4,5,6,7}\n",
    "kume1,kume2"
   ]
  },
  {
   "cell_type": "code",
   "execution_count": null,
   "id": "0310ed6b-5a6b-4d50-b798-46f3d0a1f854",
   "metadata": {},
   "outputs": [],
   "source": [
    "kume1 - kume2"
   ]
  },
  {
   "cell_type": "code",
   "execution_count": null,
   "id": "9c676778-83c7-4e5f-b7f8-a7cbdc058fda",
   "metadata": {},
   "outputs": [],
   "source": [
    "kume1.difference(kume2)"
   ]
  },
  {
   "cell_type": "code",
   "execution_count": null,
   "id": "06163878-ab80-4b92-8956-5950e1c01e0b",
   "metadata": {},
   "outputs": [],
   "source": [
    "kume2 - kume1"
   ]
  },
  {
   "cell_type": "code",
   "execution_count": null,
   "id": "17d34fa1-f710-4dcb-9df9-98318201f44e",
   "metadata": {},
   "outputs": [],
   "source": [
    "kume1.union(kume2)"
   ]
  },
  {
   "cell_type": "code",
   "execution_count": null,
   "id": "2965d749-d03a-432b-90d1-785450dcaaad",
   "metadata": {},
   "outputs": [],
   "source": [
    "kume1.add(8)\n",
    "kume1"
   ]
  },
  {
   "cell_type": "code",
   "execution_count": null,
   "id": "fc552422-78f4-48de-8a2d-508f76b4adce",
   "metadata": {},
   "outputs": [],
   "source": [
    "kume1.remove(8)\n",
    "kume1"
   ]
  },
  {
   "cell_type": "code",
   "execution_count": null,
   "id": "3355490d-01b2-4de2-b805-3c33c07805e8",
   "metadata": {},
   "outputs": [],
   "source": [
    "kume1.intersection(kume2)"
   ]
  },
  {
   "cell_type": "markdown",
   "id": "e252ab6b-3c53-41f1-ad7d-bbc1e1567313",
   "metadata": {},
   "source": [
    "### Sozlukler"
   ]
  },
  {
   "cell_type": "code",
   "execution_count": null,
   "id": "72323164-c6d2-424c-9d9d-fd93efff7de0",
   "metadata": {},
   "outputs": [],
   "source": [
    "il_plaka = {1:'Adana'}\n",
    "il_plaka[2] = 'Adiyaman'\n",
    "il_plaka[3] = 'Afyon'\n",
    "il_plaka"
   ]
  },
  {
   "cell_type": "code",
   "execution_count": null,
   "id": "68f46639-3fac-48f2-ba00-0d3ef68ab4e5",
   "metadata": {},
   "outputs": [],
   "source": [
    "il_plaka[3]"
   ]
  },
  {
   "cell_type": "markdown",
   "id": "10cb6c63-fd38-4ac6-b6d8-7df4638f1c36",
   "metadata": {},
   "source": [
    "Il plaka[1] degerini Istanbul olarak degistir."
   ]
  },
  {
   "cell_type": "code",
   "execution_count": null,
   "id": "4c8086d0-5547-4112-8c55-4b69e1fa70f1",
   "metadata": {},
   "outputs": [],
   "source": []
  },
  {
   "cell_type": "markdown",
   "id": "72ca5f61-d8b5-4f98-9909-6c89d2f540ff",
   "metadata": {},
   "source": [
    "Sozlukte anahtar degerlerini listeleyin."
   ]
  },
  {
   "cell_type": "code",
   "execution_count": null,
   "id": "d231c933-b284-4d4b-909b-ba9bad756057",
   "metadata": {},
   "outputs": [],
   "source": []
  },
  {
   "cell_type": "code",
   "execution_count": null,
   "id": "4a75d666-7d9b-467f-8b10-fa4c0ac68efa",
   "metadata": {},
   "outputs": [],
   "source": [
    "Sozlukte anhatar degerlere karsilik gelen degerleri listeleyin"
   ]
  },
  {
   "cell_type": "code",
   "execution_count": null,
   "id": "2e64c8fa-dd0a-40ff-afda-b582f90abdad",
   "metadata": {},
   "outputs": [],
   "source": []
  },
  {
   "cell_type": "code",
   "execution_count": null,
   "id": "faedd019-e320-4962-82ae-d70f8ccaaaa6",
   "metadata": {},
   "outputs": [],
   "source": [
    "Anahtar-deger ciftlerini liste tipinde bir degiskene aktarin."
   ]
  },
  {
   "cell_type": "code",
   "execution_count": null,
   "id": "75942e3f-096c-427b-8164-3950266184f2",
   "metadata": {},
   "outputs": [],
   "source": []
  },
  {
   "cell_type": "markdown",
   "id": "5fe6c961-050e-471a-8d85-3f2e0719c415",
   "metadata": {},
   "source": [
    "Sozlukten bir degeri silin."
   ]
  },
  {
   "cell_type": "code",
   "execution_count": null,
   "id": "eca3f3d2-73ba-49b5-9940-b48d955bb1f9",
   "metadata": {},
   "outputs": [],
   "source": []
  },
  {
   "cell_type": "markdown",
   "id": "c8916560-f3ca-4a65-b9a7-e4483931a4e1",
   "metadata": {},
   "source": [
    "Sozlugun uzunlugunu bulun."
   ]
  },
  {
   "cell_type": "markdown",
   "id": "41a67055-ad68-40a1-9f18-c91a7cde1eb8",
   "metadata": {},
   "source": [
    "## **Print Fonksiyonu** "
   ]
  },
  {
   "cell_type": "code",
   "execution_count": 53,
   "id": "9f1edaa0-8d1b-4940-ae42-62308d390669",
   "metadata": {},
   "outputs": [
    {
     "name": "stdout",
     "output_type": "stream",
     "text": [
      "Help on built-in function print in module builtins:\n",
      "\n",
      "print(*args, sep=' ', end='\\n', file=None, flush=False)\n",
      "    Prints the values to a stream, or to sys.stdout by default.\n",
      "    \n",
      "    sep\n",
      "      string inserted between values, default a space.\n",
      "    end\n",
      "      string appended after the last value, default a newline.\n",
      "    file\n",
      "      a file-like object (stream); defaults to the current sys.stdout.\n",
      "    flush\n",
      "      whether to forcibly flush the stream.\n",
      "\n"
     ]
    }
   ],
   "source": [
    "help(print)"
   ]
  },
  {
   "cell_type": "markdown",
   "id": "9a376bed-75f5-45de-bbd9-67245e0928a8",
   "metadata": {},
   "source": [
    "## **Print Fonksiyonu**  \n",
    "Python'da `print()` fonksiyonu, ekrana çıktı vermeyi sağlayan temel bir fonksiyondur. Bu fonksiyon, bir veya daha fazla değeri alır ve bu değerleri standart çıktıya (genellikle terminal veya komut istemcisine) yazdırır.\n",
    "\n",
    "Print fonksiyonunda sep degeri , fonksiyona aktarilan degerleri ayirmakta kullanilir.Varsayilan olarak sep = ' '.\n",
    "end degiskeni ise aktarilan ifadeler gosterildikten sonra sonuna end degiskeni eklenir. Varsayilan olarak end = '\\n'.\n",
    "1. **Tek Değer Yazdırma:**\n",
    "   ```python\n",
    "   print(\"Merhaba, Dünya!\")\n",
    "   ```\n",
    "   Bu örnek, ekrana \"Merhaba, Dünya!\" metnini yazdırır.\n",
    "\n",
    "2. **Birden Fazla Değer Yazdırma:**\n",
    "   ```python\n",
    "   ad = \"John\"\n",
    "   yas = 25\n",
    "   print(\"Ad:\", ad, \"Yaş:\", yas)\n",
    "   ```\n",
    "   Birden fazla değeri virgülle ayırarak `print()` fonksiyonuna iletebilirsiniz. Bu durumda, her bir değer arasına bir boşluk eklenir.\n",
    "\n",
    "3. **Özel Ayarlarla Yazdırma:**\n",
    "   ```python\n",
    "   ad = \"Jane\"\n",
    "   yas = 30\n",
    "   print(\"Ad: {}, Yaş: {}\".format(ad, yas))\n",
    "   ```\n",
    "   `format()` metodu kullanılarak değerler yerine geçen süslü parantezler `{}` içine yerleştirilebilir. Bu, metin içinde değişkenlerin değerlerini yerleştirmenin esnek bir yolunu sağlar.\n",
    "\n",
    "4. **Farklı Veri Tiplerini Yazdırma:**\n",
    "   ```python\n",
    "   sayi = 42\n",
    "   kesirli_sayi = 3.14\n",
    "   print(\"Tam Sayı:\", sayi, \"Kesirli Sayı:\", kesirli_sayi)\n",
    "   ```\n",
    "   `print()` fonksiyonu, farklı veri tiplerini bir arada kullanmanıza izin verir. Otomatik olarak uygun biçimlendirmeyi gerçekleştirir.\n",
    "\n",
    "5. **End Parametresi Kullanma:**\n",
    "   ```python\n",
    "   print(\"Satır Sonu\", end=\"\")\n",
    "   print(\"Devam Ediyor\")\n",
    "   ```\n",
    "   `end` parametresi, `print()` fonksiyonunun varsayılan olarak eklediği satır sonu karakterinin yerine geçer. Yukarıdaki örnekte, ikinci `print()` ifadesi, satır sonu karakteri olmadan önce devam eder.\n",
    "\n",
    "Bu örnekler, `print()` fonksiyonunun temel kullanımlarını göstermektedir. Python'da `print()` fonksiyonuyla ilgili daha fazla detay ve özellik bulunmaktadır, ancak bu temel bilgiler genellikle günlük kullanım için yeterlidir."
   ]
  },
  {
   "cell_type": "code",
   "execution_count": 56,
   "id": "2969e54d-c863-4db8-be46-b96e29816712",
   "metadata": {},
   "outputs": [
    {
     "name": "stdout",
     "output_type": "stream",
     "text": [
      "1 2 3\n"
     ]
    }
   ],
   "source": [
    "print(1,2,3)"
   ]
  },
  {
   "cell_type": "code",
   "execution_count": 58,
   "id": "329651cb-d4f1-4134-b904-61709ff1c889",
   "metadata": {},
   "outputs": [
    {
     "name": "stdout",
     "output_type": "stream",
     "text": [
      "1\t2\t3\n"
     ]
    }
   ],
   "source": [
    "print(1,2,3, sep = '\\t')"
   ]
  },
  {
   "cell_type": "code",
   "execution_count": 62,
   "id": "1c23b2e7-2c3f-4ed7-a4ea-55a4c20c5b11",
   "metadata": {},
   "outputs": [
    {
     "name": "stdout",
     "output_type": "stream",
     "text": [
      "1 2 3 4"
     ]
    }
   ],
   "source": [
    "print(1,2,3,end = ' 4')"
   ]
  },
  {
   "cell_type": "markdown",
   "id": "cec7b2b8-8453-4b88-baac-e60da31f98f7",
   "metadata": {},
   "source": [
    "## **Input Fonksiyonu**  \n",
    "Python'daki `input()` fonksiyonu, kullanıcıdan klavye aracılığıyla bir giriş almak için kullanılır. Bu fonksiyon, programın çalışması sırasında kullanıcının bir şeyler girmesine izin verir ve girilen değeri bir dize olarak döndürür. \n",
    "\n",
    "1. **Temel Kullanım:**\n",
    "   ```python\n",
    "   kullanici_girisi = input(\"Lütfen bir değer girin: \")\n",
    "   ```\n",
    "   Yukarıdaki örnekte, kullanıcıdan bir değer girmesi istenir ve bu değer `kullanici_girisi` adlı değişkene atanır. `input()` fonksiyonu, ekrana verilen metni gösterir ve kullanıcının giriş yapmasını bekler.\n",
    "\n",
    "2. **Girilen Değeri Kullanma:**\n",
    "   ```python\n",
    "   isim = input(\"Adınızı girin: \")\n",
    "   print(\"Merhaba, \" + isim + \"!\")\n",
    "   ```\n",
    "   Kullanıcının girdiği değeri alarak, program içinde kullanabilirsiniz. Bu örnekte, kullanıcının girdiği ismi kullanarak kişiye selam verilir.\n",
    "\n",
    "3. **Sayı Girişi ve Dönüşüm:**\n",
    "   ```python\n",
    "   yas = input(\"Yaşınızı girin: \")\n",
    "   yas = int(yas)  # Girilen değeri tam sayıya dönüştürme\n",
    "   print(\"İki yıl sonra yaşınız:\", yas + 2)\n",
    "   ```\n",
    "   `input()` fonksiyonu her zaman bir dize döndürür. Eğer kullanıcının girdiği değeri sayı olarak kullanmak istiyorsanız, `int()` veya `float()` gibi tür dönüşüm fonksiyonlarını kullanarak girişi uygun veri tipine çevirebilirsiniz.\n",
    "\n",
    "4. **Birden Çok Değer Almak:**\n",
    "   ```python\n",
    "   ad, soyad = input(\"Adınızı ve soyadınızı girin (aralarına boşluk bırakarak): \").split()\n",
    "   print(\"Merhaba, {} {}!\".format(ad, soyad))\n",
    "   ```\n",
    "   Kullanıcıdan birden çok değer almak için, `input()` fonksiyonuyla alınan değerleri `split()` fonksiyonu yardımıyla ayırabilirsiniz.\n",
    "\n",
    "`input()` fonksiyonu genellikle interaktif programlar veya basit kullanıcı etkileşimi gerektiren durumlarda kullanılır. Ancak, kullanıcı girişini alırken dikkatli olunmalı ve girişi güvenli bir şekilde işlemek için uygun önlemler alınmalıdır. Örneğin, kullanıcıdan alınan sayısal girişin geçerli bir sayı olup olmadığını kontrol etmek önemlidir."
   ]
  },
  {
   "cell_type": "markdown",
   "id": "4e1f1523-8b79-4fdc-86e9-62c3b2a193b1",
   "metadata": {},
   "source": [
    "## **Yorum Satiri Kullanimi**  \n",
    "Python'da yorum satırları, kodun anlaşılması ve belgelendirilmesi için kullanılan açıklamalardır. Yorumlar, Python yorumlayıcısı tarafından görmezden gelinir ve sadece insanlar tarafından okunur. Python'da iki tür yorum satırı vardır:\n",
    "\n",
    "### 1. Tek Satırlık Yorumlar:\n",
    "\n",
    "Tek satırlık yorumlar için `#` karakteri kullanılır. Bu karakterden sonrasındaki her şey o satır boyunca yorum olarak kabul edilir.\n",
    "\n",
    "```python\n",
    "# Bu bir tek satırlık yorum örneğidir.\n",
    "print(\"Merhaba, Dünya\")  # Bu da bir yorumdur\n",
    "```\n",
    "\n",
    "### 2. Çok Satırlı Yorumlar:\n",
    "\n",
    "Çok satırlı yorumlar için üç tırnak (`'''` veya `\"\"\"`) kullanılır. Bu tırnakların arasına yazılan her şey yorum olarak kabul edilir.\n",
    "\n",
    "```python\n",
    "'''\n",
    "Bu\n",
    "bir\n",
    "çok\n",
    "satırlı\n",
    "yorum\n",
    "örneğidir.\n",
    "'''\n",
    "print(\"Merhaba, Dünya\")\n",
    "```\n",
    "\n",
    "veya\n",
    "\n",
    "```python\n",
    "\"\"\"\n",
    "Bu\n",
    "da\n",
    "bir\n",
    "çok\n",
    "satırlı\n",
    "yorum\n",
    "örneğidir.\n",
    "\"\"\"\n",
    "print(\"Merhaba, Dünya\")\n",
    "```\n",
    "\n",
    "Çok satırlı yorumlar genellikle modül veya fonksiyon başında, kodun başında veya önemli blokların başında belgelerle ilgili bilgileri içermek için kullanılır. Python'da docstring olarak adlandırılan bu çok satırlı yorumlar, modül, sınıf veya fonksiyonun belgelerini otomatik olarak oluşturmak için kullanılabilir.\n",
    "\n",
    "**help fonksiyonu bu yorum satirlarini okur**"
   ]
  },
  {
   "cell_type": "markdown",
   "id": "981b875a-2a69-4597-9ddb-52d96b82b677",
   "metadata": {},
   "source": [
    "## **Tip donusumu**  \n",
    "Python'da tip dönüşümleri, bir veri türünü başka bir veri türüne çevirme işlemlerini ifade eder. Bu işlem genellikle veri türü arasında uyumsuzluk olduğunda veya belirli bir işlem için doğru veri türünün kullanılması gerektiğinde gerçekleştirilir. İşte bazı tip dönüşümü örnekleri:\n",
    "\n",
    "1. **Tam Sayıdan Ondalık Sayıya Dönüşüm:**\n",
    "   \n",
    "```python\n",
    "tam_sayi = 5\n",
    "ondalik_sayi = float(tam_sayi)\n",
    "print(ondalik_sayi)\n",
    "```\n",
    "\n",
    "2. **Ondalık Sayıdan Tam Sayıya Dönüşüm:**\n",
    "\n",
    "```python\n",
    "ondalik_sayi = 3.14\n",
    "tam_sayi = int(ondalik_sayi)\n",
    "print(tam_sayi)\n",
    "```\n",
    "\n",
    "3. **Karakter Dizisinden Tam Sayıya Dönüşüm:**\n",
    "\n",
    "```python\n",
    "sayi_str = \"42\"\n",
    "sayi_int = int(sayi_str)\n",
    "print(sayi_int)\n",
    "```\n",
    "\n",
    "4. **Tam Sayıdan Karakter Dizisine Dönüşüm:**\n",
    "\n",
    "```python\n",
    "sayi = 123\n",
    "sayi_str = str(sayi)\n",
    "print(sayi_str)\n",
    "```\n",
    "\n",
    "5. **Karakter Dizisinden Ondalık Sayıya Dönüşüm:**\n",
    "\n",
    "```python\n",
    "ondalik_str = \"3.14\"\n",
    "ondalik_sayi = float(ondalik_str)\n",
    "print(ondalik_sayi)\n",
    "```\n",
    "\n",
    "6. **Ondalık Sayıdan Karakter Dizisine Dönüşüm:**\n",
    "\n",
    "```python\n",
    "ondalik_sayi = 2.71828\n",
    "ondalik_str = str(ondalik_sayi)\n",
    "print(ondalik_str)\n",
    "```\n",
    "\n",
    "7. **Boolean'dan Tam Sayıya Dönüşüm:**\n",
    "\n",
    "```python\n",
    "bool_deger = True\n",
    "tam_sayi = int(bool_deger)\n",
    "print(tam_sayi)\n",
    "```\n",
    "\n",
    "Bu örneklerde görüldüğü gibi, `int()`, `float()`, ve `str()` gibi fonksiyonlar sayesinde tip dönüşümleri gerçekleştirilebilir. Ancak, bazı dönüşümler uygun olmayabilir veya değer kaybına neden olabilir, bu nedenle dönüşüm işlemleri dikkatlice yapılmalıdır."
   ]
  },
  {
   "cell_type": "markdown",
   "id": "3bd69f77-aeac-42b9-bb49-8081cbe6a4bd",
   "metadata": {},
   "source": [
    "**Denetim Kontrol Yapilari**\n",
    "Python'da denetim kontrol yapıları, program akışını belirli koşullara veya durumlara göre yönlendirmek için kullanılır. Bu yapılar, genellikle `if`, `else`, `elif`, `for` ve `while` gibi ifadeleri içerir. İşte bazı örnekler:\n",
    "\n",
    "### 1. **if-else Yapısı:**\n",
    "\n",
    "```python\n",
    "yas = 18\n",
    "\n",
    "if yas >= 18:\n",
    "    print(\"Ehliyet alabilirsiniz.\")\n",
    "else:\n",
    "    print(\"Ehliyet alamazsınız.\")\n",
    "```\n",
    "\n",
    "### 2. **if-elif-else Yapısı:**\n",
    "\n",
    "```python\n",
    "not_ortalamasi = 75\n",
    "\n",
    "if not_ortalamasi >= 90:\n",
    "    print(\"AA\")\n",
    "elif not_ortalamasi >= 80:\n",
    "    print(\"BA\")\n",
    "elif not_ortalamasi >= 70:\n",
    "    print(\"BB\")\n",
    "else:\n",
    "    print(\"Geçer not alamadınız.\")\n",
    "```\n",
    "\n",
    "### 3. **for Döngüsü:**\n",
    "\n",
    "```python\n",
    "for sayi in range(1, 6):\n",
    "    print(sayi)\n",
    "```\n",
    "\n",
    "### 4. **while Döngüsü:**\n",
    "\n",
    "```python\n",
    "sayac = 0\n",
    "\n",
    "while sayac < 5:\n",
    "    print(\"Sayac:\", sayac)\n",
    "    sayac += 1\n",
    "```\n",
    "\n",
    "### 5. **break ve continue Kullanımı:**\n",
    "\n",
    "```python\n",
    "for sayi in range(10):\n",
    "    if sayi == 5:\n",
    "        break\n",
    "    if sayi % 2 == 0:\n",
    "        continue\n",
    "    print(sayi)\n",
    "```\n",
    "\n",
    "### 6. **try-except Blokları:**\n",
    "\n",
    "```python\n",
    "try:\n",
    "    sayi = int(input(\"Bir sayı girin: \"))\n",
    "    karekok = sayi ** 0.5\n",
    "    print(\"Karekök:\", karekok)\n",
    "except ValueError:\n",
    "    print(\"Geçersiz sayı formatı!\")\n",
    "except ZeroDivisionError:\n",
    "    print(\"Sıfıra bölme hatası!\")\n",
    "```\n",
    "\n",
    "Bu örneklerde görüldüğü gibi, `if`, `else`, `elif` ifadeleri belirli koşullara göre programın akışını yönlendirirken, `for` ve `while` döngüleri belirli koşullar altında belirli işlemleri tekrarlar. `break` ve `continue` ifadeleri, döngüleri kontrol etmek için kullanılırken, `try` ve `except` blokları hata yönetimi için kullanılır."
   ]
  },
  {
   "cell_type": "markdown",
   "id": "6b623ddb-39e9-4017-8962-e1f3efcad4de",
   "metadata": {},
   "source": [
    "**Fonksiyon Tanimlama**\n",
    "Python'da fonksiyonlar, belirli bir işlevi gerçekleştiren, tekrar kullanılabilir ve modüler birimlerdir. Bir fonksiyon, belirli bir adı, parametreleri (opsiyonel veya zorunlu) ve bir veya birden çok işlemi içerir. Fonksiyonlar, kodunuzu daha düzenli ve anlaşılır hale getirmenize ve aynı kod bloğunu tekrar tekrar kullanmanıza olanak tanır. İşte bir fonksiyonun nasıl tanımlandığına dair temel bir örnek:\n",
    "\n",
    "```python\n",
    "def selamla(isim):\n",
    "    \"\"\"Bu fonksiyon, isim parametresini kullanarak selam verir.\"\"\"\n",
    "    print(\"Merhaba, \" + isim + \"!\")\n",
    "\n",
    "# Fonksiyonu çağırma\n",
    "selamla(\"Ahmet\")\n",
    "```\n",
    "\n",
    "Bu örnekte:\n",
    "\n",
    "- `def` ifadesi fonksiyonun tanımlandığını belirtir.\n",
    "- `selamla` adı fonksiyonun adını temsil eder.\n",
    "- `isim` parametresi, fonksiyonun çağrıldığında alınacak bir giriş parametresidir.\n",
    "- İşlevin içindeki kod, belirli bir işlemi gerçekleştirir. Bu örnekte, basitçe bir selamlaşma mesajı yazdırılmıştır.\n",
    "- Fonksiyonun çağrıldığı satır, `selamla(\"Ahmet\")`, fonksiyonu çağırır ve `isim` parametresine \"Ahmet\" değerini geçirir.\n",
    "\n",
    "Fonksiyonlar genellikle bir değer döndürmek için `return` ifadesini kullanır. İşte bir değer döndüren bir fonksiyon örneği:\n",
    "\n",
    "```python\n",
    "def toplama(a, b):\n",
    "    \"\"\"Bu fonksiyon, iki sayıyı toplar ve sonucu döndürür.\"\"\"\n",
    "    sonuc = a + b\n",
    "    return sonuc\n",
    "\n",
    "# Fonksiyonu çağırma\n",
    "toplam = toplama(3, 5)\n",
    "print(\"Toplam:\", toplam)\n",
    "```\n",
    "\n",
    "Bu örnekte, `toplama` fonksiyonu iki sayıyı toplar ve `return` ifadesi ile toplam değerini döndürür. Çağrıldığı yerde, döndürülen değer bir değişkene atanarak kullanılabilir.\n",
    "\n",
    "Fonksiyonlar, programınızı daha modüler hale getirir ve aynı kodu tekrar tekrar yazmaktan kaçınmanıza yardımcı olur.\n",
    "\n",
    "\n",
    "`*args` ve `**kwargs`, Python'da fonksiyonlara esneklik kazandırmak için kullanılan özel parametre türleridir.\n",
    "\n",
    "1. **`*args` (Yıldızlı Argümanlar):**\n",
    "   - `*args` ifadesi, bir fonksiyona değişken sayıda pozisyonel argümanı toplu halde iletmek için kullanılır.\n",
    "   - Fonksiyon tanımında `*args` parametresi, fonksiyonun kaç tane pozisyonel argüman alabileceğini belirtmez. Bu sayede fonksiyon, çağrıldığında belirtilen tüm pozisyonel argümanları bir demet (tuple) olarak alır.\n",
    "\n",
    "   Örnek:\n",
    "\n",
    "   ```python\n",
    "   def toplama(*args):\n",
    "       sonuc = 0\n",
    "       for sayi in args:\n",
    "           sonuc += sayi\n",
    "       return sonuc\n",
    "\n",
    "   print(toplama(1, 2, 3, 4))  # 10\n",
    "   ```\n",
    "\n",
    "2. **`**kwargs` (Yıldızlı İsimlendirilmiş Argümanlar):**\n",
    "   - `**kwargs` ifadesi, bir fonksiyona değişken sayıda isimlendirilmiş argümanı toplu halde iletmek için kullanılır.\n",
    "   - `**kwargs` parametresi, bir sözlük (dictionary) olarak işlev görür ve fonksiyon çağrıldığında isimlendirilmiş argümanlar bu sözlüğe eklenir.\n",
    "\n",
    "   Örnek:\n",
    "\n",
    "   ```python\n",
    "   def bilgi(**kwargs):\n",
    "       for anahtar, deger in kwargs.items():\n",
    "           print(f\"{anahtar}: {deger}\")\n",
    "\n",
    "   bilgi(ad=\"John\", soyad=\"Doe\", yas=25)\n",
    "   # Çıktı:\n",
    "   # ad: John\n",
    "   # soyad: Doe\n",
    "   # yas: 25\n",
    "   ```\n",
    "\n",
    "Bu iki özel parametre türü, fonksiyonlara daha fazla esneklik kazandırarak çeşitli argümanları kabul etmelerini sağlar. `*args` ile pozisyonel argümanları, `**kwargs` ile isimlendirilmiş argümanları toplu halde alabilir ve işleyebilirsiniz. Ayrıca, bu parametre türlerini bir arada kullanabilirsiniz; `*args` ve `**kwargs` aynı fonksiyon tanımında bir arada bulunabilir.\n"
   ]
  },
  {
   "cell_type": "code",
   "execution_count": 66,
   "id": "6fd91415-4f2a-4056-bb7c-1b59190c63c6",
   "metadata": {},
   "outputs": [
    {
     "data": {
      "text/plain": [
       "0"
      ]
     },
     "execution_count": 66,
     "metadata": {},
     "output_type": "execute_result"
    }
   ],
   "source": [
    "def Merhaba(isim):\n",
    "    print(\"Merhaba\", isim)"
   ]
  },
  {
   "cell_type": "markdown",
   "id": "53e80238-9e2b-4f2e-8320-dc79f64232ea",
   "metadata": {},
   "source": [
    "## Sorular\n",
    "\n",
    "1 - Kulanicidan alinan sayinin tekmi ciftmi oldugunu bildiren kodu yaziniz."
   ]
  },
  {
   "cell_type": "code",
   "execution_count": null,
   "id": "afc88eff-c75e-4682-854d-0e0e0b762cc1",
   "metadata": {},
   "outputs": [],
   "source": []
  },
  {
   "cell_type": "markdown",
   "id": "11b66df0-0746-46d2-8969-c70b6d63fc74",
   "metadata": {},
   "source": [
    "2- Kullanicadan alinan sayinin tersini alan kodu yaziniz.\n",
    "Ornek:\n",
    "Girdi : -1\n",
    "Cikti : 1\n",
    "Girdi : 1\n",
    "Cikti : -1"
   ]
  },
  {
   "cell_type": "code",
   "execution_count": null,
   "id": "fc8cf5a1-9c08-4030-8d57-6e1cdf60a410",
   "metadata": {},
   "outputs": [],
   "source": []
  },
  {
   "cell_type": "markdown",
   "id": "afe74ac0-4bc6-4525-b5e6-c6c92531af85",
   "metadata": {},
   "source": [
    "3 - Kullanicidan bir vize ve bir final notu isteyiniz.Eger vize ve final notu 0 ile 100 arasinda degilse ekrana hata mesaji veriniz.Eger 0 ile 100 arasinda ise not ortalamasinin %40 ni ile final notunun %60 nin toplami olarak hesaplayip ekranda yazdiriniz. Ardindan not ortalamasini asagidaki kurala gore hesaplayip ekrana yazdiriniz.  \n",
    "0<= not < 60  ise F  \n",
    "60<= not < 70  ise D  \n",
    "70<= not < 80  ise C  \n",
    "80<= not < 90  ise B  \n",
    "90<= not < 100  ise A  \n"
   ]
  },
  {
   "cell_type": "code",
   "execution_count": null,
   "id": "cd689cf4-3027-4337-90b9-86ba3855fbd6",
   "metadata": {},
   "outputs": [],
   "source": []
  },
  {
   "cell_type": "markdown",
   "id": "ac2fddca-f6c4-44d1-849a-8ca2788d6a32",
   "metadata": {},
   "source": [
    "4 - Kullanicidan ucgen  dikdortgen kare secmesini isteyiniz. Ardindan secim yanlissa hata mesaji veriniz. Uygun sekilde secim yapilmissa secilen sekle gore kenar uzunluklarini isteyiniz ardindan  alan  ve cevre degerlerini hesaplayiniz."
   ]
  },
  {
   "cell_type": "code",
   "execution_count": null,
   "id": "f4b26455-7c1a-4ed2-b4f8-cd5d9eecf03f",
   "metadata": {},
   "outputs": [],
   "source": []
  },
  {
   "cell_type": "markdown",
   "id": "1801d6dc-a602-4d7f-8132-7366642eb82a",
   "metadata": {},
   "source": [
    "5- Kullanicidan iki sayi isteyiniz sonrasinda yapilmak istenilen islemi isteyiniz (carpma,bolme,toplama, cikarma). Sonrasinda islemi yapip sonucu ekrana\n",
    "yazdiriniz."
   ]
  },
  {
   "cell_type": "code",
   "execution_count": null,
   "id": "58755367-e4a2-456d-84e2-d25a62a4f40f",
   "metadata": {},
   "outputs": [],
   "source": []
  },
  {
   "cell_type": "markdown",
   "id": "deb9631e-9af6-48a2-86d4-34f1425bf488",
   "metadata": {},
   "source": [
    "6- Bir 4 haneli pin kodu belirleyiniz. Bu pin kodunu uygulamaniza kisiyi dogrulamakta kullanmak icin kullancaksiniz.Kullanici 3 kez yanlis pin girdiginde \n",
    "uyari mesaji vererek uygulamayi sonlandirir. Basarili giriste ise \"Giris dogrulandi\" seklinde ekrana bildirim versin."
   ]
  },
  {
   "cell_type": "code",
   "execution_count": null,
   "id": "db7e441d-c4e8-4f3e-aaf8-7f50811bf4d0",
   "metadata": {},
   "outputs": [],
   "source": []
  },
  {
   "cell_type": "markdown",
   "id": "368da8e4-ec69-460b-867e-db8ae6dba745",
   "metadata": {},
   "source": [
    "7- Kullanicidan bir sayi girilmesi istinilsin ekran girilen sayiya kadar olan sayilar yazdirilsin."
   ]
  },
  {
   "cell_type": "code",
   "execution_count": null,
   "id": "d1cc03d8-81f3-48da-8fa0-ff35da46e4f6",
   "metadata": {},
   "outputs": [],
   "source": []
  },
  {
   "cell_type": "markdown",
   "id": "d968e0d6-8728-4167-a950-86267cb1a236",
   "metadata": {},
   "source": [
    "8 - Kullanicidan alt limit ust limit ve artis miktari istenilsin.Ekran alt limitten baslayarak artis miktari kadar artirarak ust limite kadar \n",
    "sayilar ekrana yazdirilsin."
   ]
  },
  {
   "cell_type": "code",
   "execution_count": null,
   "id": "b599b7fc-2d21-41bc-b5f7-d54f75d2f76c",
   "metadata": {},
   "outputs": [],
   "source": []
  },
  {
   "cell_type": "markdown",
   "id": "4548d564-6049-40dd-80c2-db448aeb5257",
   "metadata": {},
   "source": [
    "9 - Kullanicidan alt limit ve ust limit alinsin ve aradaki sayilarin toplami hesaplansin."
   ]
  },
  {
   "cell_type": "code",
   "execution_count": null,
   "id": "6158f405-914b-4d58-9f57-3902c9d80a87",
   "metadata": {},
   "outputs": [],
   "source": []
  },
  {
   "cell_type": "markdown",
   "id": "84f3625d-262b-4388-bdf8-b383702a2a9d",
   "metadata": {},
   "source": [
    "10 - Girilen sayinin faktoriyelini hesaplayan kodu yaziniz eger deger sifirdan kucukse hata mesaji verin"
   ]
  },
  {
   "cell_type": "code",
   "execution_count": null,
   "id": "0c5daeff-0662-4b7c-934c-4f9ffa9b8b8d",
   "metadata": {},
   "outputs": [],
   "source": []
  },
  {
   "cell_type": "markdown",
   "id": "0b93e7d4-3de7-4118-b801-9bbb99d0159a",
   "metadata": {},
   "source": [
    "11- Girilen sayinin tum pozitif bolenlerini bulunuz."
   ]
  },
  {
   "cell_type": "code",
   "execution_count": null,
   "id": "48933db9-84f4-4afd-bca7-357a9bacc140",
   "metadata": {},
   "outputs": [],
   "source": []
  },
  {
   "cell_type": "markdown",
   "id": "2326e1b1-aa57-4bf3-b7c8-2f38159ad265",
   "metadata": {},
   "source": [
    "12- Girilen sayinin asal olup olmadigini kontrol edip asalsa \"Bu bir asal sayidir\" degilse \"Asal sayi degildir\" seklinde ekrana mesaj \n",
    "yaziniz. "
   ]
  },
  {
   "cell_type": "code",
   "execution_count": null,
   "id": "a3a54d5c-f8dd-48f6-aadc-68319cf37e79",
   "metadata": {},
   "outputs": [],
   "source": []
  },
  {
   "cell_type": "markdown",
   "id": "a3ecea41-f6a5-4d59-8300-a2d075332dad",
   "metadata": {},
   "source": [
    "13 - Girilen metnin tersten ve duzden birbirine esit olup olmadigini kontrol eden kodu yaziniz.\n",
    "Ornek:\n",
    "abcba == polindromdur\n",
    "deded == polindromdur\n",
    "dead  != polindrom degildir"
   ]
  },
  {
   "cell_type": "code",
   "execution_count": null,
   "id": "dbe90a84-28d0-4217-9842-cf59dcb2eb5c",
   "metadata": {},
   "outputs": [],
   "source": []
  },
  {
   "cell_type": "markdown",
   "id": "2906a478-f756-4b34-8f5d-94c03506577a",
   "metadata": {},
   "source": [
    "14- $ ax^2 + bx + c $ a=2 b = 3  c= 4 icin girilen sayi icin denklemi hesaplayan fonksiyonu yaziniz"
   ]
  },
  {
   "cell_type": "code",
   "execution_count": null,
   "id": "9c46c1a3-3bcf-4b6d-8421-2d5724503fba",
   "metadata": {},
   "outputs": [],
   "source": []
  },
  {
   "cell_type": "markdown",
   "id": "e15cfee9-92fa-4d52-8ebb-f909bff9f4ee",
   "metadata": {},
   "source": [
    "15 - Girilen sayinin rakamlari toplamini bulan programini bulan kodu yaziniz. "
   ]
  },
  {
   "cell_type": "code",
   "execution_count": null,
   "id": "5bbeec06-b948-4ff3-85dd-f025ac95ea5f",
   "metadata": {},
   "outputs": [],
   "source": []
  }
 ],
 "metadata": {
  "kernelspec": {
   "display_name": "Python 3 (ipykernel)",
   "language": "python",
   "name": "python3"
  },
  "language_info": {
   "codemirror_mode": {
    "name": "ipython",
    "version": 3
   },
   "file_extension": ".py",
   "mimetype": "text/x-python",
   "name": "python",
   "nbconvert_exporter": "python",
   "pygments_lexer": "ipython3",
   "version": "3.11.8"
  }
 },
 "nbformat": 4,
 "nbformat_minor": 5
}
