{
 "cells": [
  {
   "cell_type": "markdown",
   "id": "9030c637-85ba-4ed7-81b8-24ec1006d060",
   "metadata": {},
   "source": [
    "## Rekürsif Fonksiyonlar\n",
    "Rekürsif fonksiyonlar, bir fonksiyonun kendi kendini çağırdığı bir programlama tekniğidir. Rekürsif fonksiyonlar, problemleri daha küçük alt problemlere bölerek çözmeye odaklanan bir yaklaşım sunar. Bir fonksiyonun rekürsif olması için, her bir çağrıda fonksiyonun daha küçük bir problemi çözecek şekilde tasarlanmış olmalıdır.\n",
    "\n",
    "```python\n",
    "def faktoriyel(n):\n",
    "    if n == 0 or n == 1:\n",
    "        return 1\n",
    "    else:\n",
    "        return n * faktoriyel(n - 1)\n",
    "\n",
    "# Örnek kullanım\n",
    "sayi = 5\n",
    "sonuc = faktoriyel(sayi)\n",
    "print(f\"{sayi} faktöriyeli: {sonuc}\")\n",
    "```\n",
    "\n",
    "Bu örnekte, `faktoriyel` fonksiyonu kendisini (`faktoriyel(n-1)`) çağırarak n! (n faktöriyel) hesaplamaktadır. Fonksiyon, temel durumu kontrol eder (n'nin 0 veya 1 olması durumunda 1'i döndürür) ve aksi takdirde n'yi küçülterek kendisini çağırır. Bu, her çağrıda bir önceki adıma geri dönerek problemi küçültmeye dayanan tipik bir rekürsif yapıdır.\n",
    "\n",
    "Rekürsif fonksiyonlar, özellikle ağaç yapısı problemleri gibi yapısal problemleri çözmek için kullanışlıdır. Ancak, dikkatli bir şekilde tasarlanmalıdır çünkü yanlış bir şekilde kullanıldığında sonsuz döngülere veya gereksiz hesaplama maliyetine yol açabilirler.\n",
    "\n",
    "Rekürsif fonksiyonlarla çalışırken şu temel prensipleri hatırlamak önemlidir:\n",
    "\n",
    "1. **Temel Durum (Base Case):** Rekürsif çağrıların durması için bir temel durum belirleyin.\n",
    "   \n",
    "2. **İleri Adım (Recursive Case):** Problemi daha küçük bir alt problem haline getirmek için fonksiyonu kendisi içinde çağırın.\n",
    "\n",
    "3. **İlerleme:** Her rekürsif çağrıda problemi küçülterek ilerleyin, aksi takdirde sonsuz bir döngüye düşebilirsiniz.\n",
    "\n",
    "Rekürsif fonksiyonlar, bazı durumlarda daha anlaşılır ve okunabilir bir kod sağlayabilir, ancak doğru kullanılmaları ve gereksiz yere derin rekürsif çağrılardan kaçınılması önemlidir."
   ]
  },
  {
   "cell_type": "code",
   "execution_count": null,
   "id": "bfc76d7c-26ba-4d44-94af-06e67ee13738",
   "metadata": {},
   "outputs": [],
   "source": []
  },
  {
   "cell_type": "markdown",
   "id": "881f0e37-ccc3-431c-a74d-afefc081a72a",
   "metadata": {},
   "source": [
    "1.Soru: Gonderilen karakterleri bir bir azaltarak ekrana yazan rekursif fonsiyonnu yaziniz.  \n",
    "```\n",
    "merhaba  \n",
    "merhab  \n",
    "merha  \n",
    "merh  \n",
    "mer  \n",
    "me  \n",
    "m\n",
    "```"
   ]
  },
  {
   "cell_type": "code",
   "execution_count": null,
   "id": "d4580049-d235-4a8b-8d38-576d14b7a691",
   "metadata": {},
   "outputs": [],
   "source": []
  },
  {
   "cell_type": "code",
   "execution_count": null,
   "id": "af45c81e-5bb8-48f1-ad58-9ca776f33f57",
   "metadata": {},
   "outputs": [],
   "source": [
    "2.Soru: Rekursif bir sekilde us alan fonksiyonu yaziniz.\n",
    "us_al(2,3) = 2*2*2"
   ]
  },
  {
   "cell_type": "code",
   "execution_count": null,
   "id": "38cce731-de92-40e2-998c-f486c5f4030c",
   "metadata": {},
   "outputs": [],
   "source": []
  },
  {
   "cell_type": "markdown",
   "id": "63b93399-f8bd-4766-b58c-eff8051d4170",
   "metadata": {},
   "source": [
    "3.Soru: Girilen sayiya gore fibonacci sirasindaki sayiyi veren fonksiyonu yaziniz.  \n",
    "**Bitis durumlari**  \n",
    "$F(0) = 0 $   \n",
    "$F(1) = 1  $  \n",
    "**Ileri yonlu calisacak fonksiyon**  \n",
    "$F(n) = F(n-1) + F(n-2)$"
   ]
  },
  {
   "cell_type": "code",
   "execution_count": 57,
   "id": "5dbd5ce5-2fcb-4d78-bce6-bece04d74152",
   "metadata": {},
   "outputs": [
    {
     "data": {
      "text/plain": [
       "5"
      ]
     },
     "execution_count": 57,
     "metadata": {},
     "output_type": "execute_result"
    }
   ],
   "source": [
    "def fibo(n):\n",
    "    if n <= 1:\n",
    "        return n\n",
    "    else:\n",
    "        return fibo(n-1) + fibo(n-2) # 0 1 1 2 3 5 8 13 21 34\n",
    "fibo(5)"
   ]
  },
  {
   "cell_type": "markdown",
   "id": "77e6a5f9-e09e-441f-aa5e-fe3398194ea7",
   "metadata": {},
   "source": [
    "4.Soru `for` dongusu kullanrak fibonacci sirasindaki sayiyi hesapalyiniz.\n",
    "```python\n",
    "fibo(5)=5\n",
    "fibo(6)=8\n",
    "fibo(7)=13\n",
    "```"
   ]
  },
  {
   "cell_type": "code",
   "execution_count": null,
   "id": "88ffa87f-f1a9-41bc-a6cf-53898911112d",
   "metadata": {},
   "outputs": [],
   "source": []
  },
  {
   "cell_type": "markdown",
   "id": "294e432e-7c36-4435-85e3-75819496a3df",
   "metadata": {},
   "source": [
    "5.Soru: Girilen yaziyi tersine ceviren rekursif fonksiyonu yaziniz.\n",
    "```\n",
    "input:Merhaba\n",
    "output:abahreM\n",
    "```"
   ]
  },
  {
   "cell_type": "code",
   "execution_count": null,
   "id": "f8cb1006-d875-4129-bdfc-e1d7d4c335b8",
   "metadata": {},
   "outputs": [],
   "source": []
  },
  {
   "cell_type": "markdown",
   "id": "9150b125-f080-46bb-a606-152c80b2d86a",
   "metadata": {},
   "source": [
    "## Fonksiyonların Kapsamı ve global Deyimi\n",
    "\n",
    "Python'da fonksiyonların kapsamı (scope), bir değişkenin nerede tanımlandığına ve erişilebildiği yerlere bağlı olarak belirlenen bir konsepttir. İki temel kapsam türü vardır: yerel kapsam (local scope) ve global kapsam (global scope). Ayrıca, gömülü fonksiyonlar gibi belirli kapsamlar da bulunabilir. İşte bu kavramları açıklamak için örnekler:\n",
    "\n",
    "**1. Yerel Kapsam (Local Scope):**\n",
    "\n",
    "Yerel kapsam, bir değişkenin bir fonksiyon içinde tanımlandığı ve sadece o fonksiyon içinde erişilebilir olduğu kapsamdır.\n",
    "\n",
    "```python\n",
    "def fonksiyon():\n",
    "    local_variable = 10\n",
    "    print(local_variable)\n",
    "\n",
    "fonksiyon()\n",
    "# print(local_variable)  # Hata: local_variable is not defined\n",
    "```\n",
    "\n",
    "Burada `local_variable` değişkeni, sadece `fonksiyon` içinde tanımlıdır ve bu nedenle fonksiyon dışında erişilemez. Fonksiyon çağrısı yapıldığında, `local_variable`'ın değeri ekrana yazdırılır."
   ]
  },
  {
   "cell_type": "code",
   "execution_count": null,
   "id": "bcba39c0-a999-472b-b6b5-2efaa93d116b",
   "metadata": {},
   "outputs": [],
   "source": []
  },
  {
   "cell_type": "code",
   "execution_count": null,
   "id": "90947b58-0e7a-4395-b290-ea3a33eaa768",
   "metadata": {},
   "outputs": [],
   "source": [
    "local_variable = 0\n",
    "def fonksiyon():\n",
    "    local_variable = 10\n",
    "    print(local_variable)\n",
    "\n",
    "\n",
    "fonksiyon()\n",
    "print(local_variable)"
   ]
  },
  {
   "cell_type": "markdown",
   "id": "56f9d425-6db4-4507-b241-2e0e47feeef5",
   "metadata": {},
   "source": [
    "\n",
    "**2. Global Kapsam (Global Scope):**\n",
    "\n",
    "Global kapsam, bir değişkenin programın en üst düzeyinde tanımlandığı ve programın herhangi bir yerinde erişilebildiği kapsamdır.\n",
    "\n",
    "```python\n",
    "global_variable = 20\n",
    "\n",
    "def fonksiyon():\n",
    "    print(global_variable)\n",
    "\n",
    "fonksiyon()\n",
    "print(global_variable)\n",
    "```\n",
    "\n",
    "Burada `global_variable` değişkeni, programın en üst düzeyinde tanımlandığı için hem `fonksiyon` içinde hem de dışında erişilebilir. Fonksiyon içindeki çağrıda ve sonraki dışındaki çağrıda değeri ekrana yazdırılır.\n"
   ]
  },
  {
   "cell_type": "code",
   "execution_count": null,
   "id": "a93a0815-47c1-4023-91ae-c0fa76097d73",
   "metadata": {},
   "outputs": [],
   "source": []
  },
  {
   "cell_type": "code",
   "execution_count": null,
   "id": "e16182c9-5a13-43e7-b113-0d40cf2d4b1d",
   "metadata": {},
   "outputs": [],
   "source": [
    "global_variable = 20\n",
    "\n",
    "def fonksiyon():\n",
    "    global_variable = 0\n",
    "    print(global_variable)\n",
    "\n",
    "fonksiyon()\n",
    "print(global_variable)"
   ]
  },
  {
   "cell_type": "markdown",
   "id": "e18c68cc-988b-48e2-826a-c51a879f50e0",
   "metadata": {},
   "source": [
    "**3. Girişim (Enclosure) Kapsamı:**\n",
    "\n",
    "Girişim kapsamı, bir iç içe fonksiyonun dıştaki fonksiyonun değişkenlerine erişebildiği bir kapsam türüdür.\n",
    "\n",
    "```python\n",
    "def dis_fonksiyon():\n",
    "    outer_variable = 30\n",
    "\n",
    "    def ic_fonksiyon():\n",
    "        print(outer_variable)\n",
    "\n",
    "    ic_fonksiyon()\n",
    "\n",
    "dis_fonksiyon()\n",
    "# print(outer_variable)  # Hata: outer_variable is not defined\n",
    "```\n",
    "\n",
    "Burada `ic_fonksiyon` içinde, `outer_variable` değişkenine erişilebilir. Ancak, bu değişkenin doğrudan dış fonksiyonun dışında erişilmesi mümkün değildir.\n",
    "\n",
    "Kapsam konsepti, değişkenlerin nasıl tanımlandığına ve erişilebildiğine dair önemli bir kavramdır. Programınızın düzenli ve hatasız olması için kapsamı doğru bir şekilde anlamak önemlidir."
   ]
  },
  {
   "cell_type": "code",
   "execution_count": null,
   "id": "7af8fb07-65c6-4a01-bfaf-21b50519ab3e",
   "metadata": {},
   "outputs": [],
   "source": []
  },
  {
   "cell_type": "code",
   "execution_count": null,
   "id": "b9fdd0b7-8602-4516-99f9-d2be01803e64",
   "metadata": {},
   "outputs": [],
   "source": [
    "#x = 0\n",
    "def dis_fonksiyon():\n",
    "    outer_variable = 30\n",
    "    print(id(outer_variable))\n",
    "    def ic_fonksiyon():\n",
    "        #outer_variable = 0\n",
    "        print(id(outer_variable))\n",
    "        print(outer_variable)\n",
    "        #print(x)\n",
    "    ic_fonksiyon()\n",
    "    print(outer_variable)\n",
    "\n",
    "dis_fonksiyon()\n",
    "# print(outer_variable)  # Hata: outer_variable is not defined"
   ]
  },
  {
   "cell_type": "code",
   "execution_count": null,
   "id": "5edf3460-309f-4354-85ab-3520d2fb371f",
   "metadata": {},
   "outputs": [],
   "source": [
    "x = []\n",
    "y = 0\n",
    "print('x\\'in ilk hali:', x)\n",
    "def değiştir():\n",
    "    print('x\\'i değiştiriyoruz...')\n",
    "    x.append(1)\n",
    "    y = 1\n",
    "    return x\n",
    "değiştir()\n",
    "print('x\\'in son hali: ', x)\n",
    "print(y)"
   ]
  },
  {
   "cell_type": "markdown",
   "id": "23402867-5bb6-4ac4-99da-d8e9ff628291",
   "metadata": {},
   "source": [
    "Python herhangi bir nesneye göndermede bulunduğumuzda, yani o nesnenin değerini talep\n",
    "ettiğimizde aradığımız nesneyi ilk önce mevcut isim alanı içinde arar. Eğer aranan nesneyi\n",
    "mevcut isim alanı içinde bulamazsa yukarıya doğru bütün isim alanlarını tek tek kontrol eder.\n",
    "Eğer bir nesne değiştirilebilir bir nesne ise, o nesnenin değerini, lokal isim alanlarından\n",
    "değiştirebilirsiniz.\n",
    "\n",
    "```python\n",
    "x = set()\n",
    "def fonk():\n",
    "    x.add(10)\n",
    "    return x\n",
    "print(fonk())\n",
    "```"
   ]
  },
  {
   "cell_type": "code",
   "execution_count": null,
   "id": "6f7c48d7-4613-4375-b1e8-a2c44b430502",
   "metadata": {},
   "outputs": [],
   "source": []
  },
  {
   "cell_type": "markdown",
   "id": "7488b060-9ae6-4fee-9064-b5f5fb23329f",
   "metadata": {},
   "source": [
    "Ama eğer bir nesne değiştirilemez bir nesne ise, o nesnenin değerini zaten normalde de\n",
    "değiştiremezsiniz. Değiştirmiş gibi yapmak için ise o nesneyi yeniden tanımlamanız gerektiğini\n",
    "biliyorsunuz:\n",
    "\n",
    "```python\n",
    "isim = 'muhammet'\n",
    "isim += 'ozturk'\n",
    "print(isim)\n",
    "```\n",
    "\n",
    "```python\n",
    "isim = 'muhammet'\n",
    "print(id(isim))\n",
    "isim += ' ozturk'\n",
    "print(id(isim))\n",
    "print(isim)\n",
    "```"
   ]
  },
  {
   "cell_type": "code",
   "execution_count": null,
   "id": "b0665d07-6d46-482e-8781-dcbfa690792a",
   "metadata": {},
   "outputs": [],
   "source": []
  },
  {
   "cell_type": "markdown",
   "id": "9645df56-9241-43fb-bb1c-1759b90417b3",
   "metadata": {},
   "source": [
    "Burada yaptığımız şey, karakter dizisinin değerini değiştirmekten ziyade bu karakter dizisini\n",
    "yeniden tanımlamaktır. Çünkü bildiğiniz gibi karakter dizileri değiştirilemeyen veri tipleridir.\n",
    "İşte karakter dizileri gibi değiştirilemeyen nesneleri,\n",
    "değiştiremeyeceğiniz gibi, yeniden tanımlayamazsınız.\n",
    "\n",
    "```python\n",
    "isim = 'Muhammet'\n",
    "def fonk():\n",
    "    isim += ' Ozturk'\n",
    "    return isim\n",
    "print(fonk())\n",
    "\n",
    "#cannot access local variable 'isim' where it is not associated with a value\n",
    "#bir değerle ilişkilendirilmemiş 'isim' yerel değişkenine erişilemiyor\n",
    "\n",
    "```"
   ]
  },
  {
   "cell_type": "code",
   "execution_count": null,
   "id": "82352898-33b8-4fb6-b130-0282fcbb5c2d",
   "metadata": {},
   "outputs": [],
   "source": []
  },
  {
   "cell_type": "markdown",
   "id": "eb075f4a-fda6-4b71-a46a-2efd8912088d",
   "metadata": {},
   "source": [
    "#### global değişkeni\n",
    "\n",
    "`global` anahtar kelimesi, genellikle yerel bir değişkenin global bir değişkenle aynı adı taşıdığı durumlarda veya bir fonksiyon içinde global bir değişkeni güncelleme ihtiyacı olduğunda kullanılır.\n",
    "```python\n",
    "isim = 'Muhammet'\n",
    "def fonk():\n",
    "    global isim\n",
    "    isim += ' Ozturk'\n",
    "    return isim\n",
    "print(fonk())\n",
    "```"
   ]
  },
  {
   "cell_type": "code",
   "execution_count": null,
   "id": "c6648cbd-4f66-4e90-ba45-22c236fada90",
   "metadata": {},
   "outputs": [],
   "source": []
  },
  {
   "cell_type": "markdown",
   "id": "4b1506af-ebe4-43bd-85fe-67b9e9b0f55e",
   "metadata": {},
   "source": [
    "**lambda fonksiyonu**  \n",
    "Python'da `lambda` ifadesi, küçük ve anonim (isimsiz) fonksiyonlar oluşturmak için kullanılır. Lambda fonksiyonları genellikle kısa ölçümler veya birkaç satırda yazılabilecek küçük görevler için kullanışlıdır. Lambda ifadesi, `lambda` kelimesiyle başlar, ardından parametre listesi, iki nokta (`:`), ve sonrasında bir ifade bulunur. İşte lambda ifadesinin temel yapısı:\n",
    "\n",
    "```python\n",
    "lambda parametreler: ifade\n",
    "```\n",
    "\n",
    "Örnek kullanım:\n",
    "\n",
    "```python\n",
    "# İki sayıyı toplayan bir lambda fonksiyonu\n",
    "topla = lambda x, y: x + y\n",
    "print(topla(3, 5))  # Çıktı: 8\n",
    "```"
   ]
  },
  {
   "cell_type": "code",
   "execution_count": null,
   "id": "a3bc4ae9-445e-4423-ab5f-9e47fcef02c8",
   "metadata": {},
   "outputs": [],
   "source": []
  },
  {
   "cell_type": "markdown",
   "id": "b1b546fa-c4d6-469e-91e8-0cc204c30079",
   "metadata": {},
   "source": [
    "1.Soru: Gonderilen listenin elemanlarinin ciftmi tekmi ekrana yazdiran `lambda` fonksiyonunu yaziniz."
   ]
  },
  {
   "cell_type": "code",
   "execution_count": 9,
   "id": "a988a581-656c-4f1b-a5c9-4b023b1f9812",
   "metadata": {},
   "outputs": [
    {
     "name": "stdout",
     "output_type": "stream",
     "text": [
      "Tek\n",
      "Cift\n"
     ]
    }
   ],
   "source": [
    "f = lambda x: print(\"Cift\") if x % 2 == 0 else print(\"Tek\")\n",
    "f(1)\n",
    "f(2)"
   ]
  },
  {
   "cell_type": "markdown",
   "id": "60ae7f94-ae15-4034-8dd7-e82520b4b5e7",
   "metadata": {},
   "source": [
    "2.Soru: `lambda` fonksiyonu kullanarak toplama islemi yapan fonksiyonu yaziniz."
   ]
  },
  {
   "cell_type": "code",
   "execution_count": null,
   "id": "057ac580-defb-4480-9f16-84d58ce97f57",
   "metadata": {},
   "outputs": [],
   "source": []
  },
  {
   "cell_type": "markdown",
   "id": "43696ac1-13dd-4cb4-869a-412851451496",
   "metadata": {},
   "source": [
    "3.Soru: Gonderilen sayinin kare kokunu alan `lambda` fonksiyonunu yaziniz."
   ]
  },
  {
   "cell_type": "code",
   "execution_count": null,
   "id": "c9f6a0bf-117b-45ff-8d56-eef24c0fa22f",
   "metadata": {},
   "outputs": [],
   "source": []
  },
  {
   "cell_type": "markdown",
   "id": "fd858c0a-c022-4ac9-bf1e-61034b46d324",
   "metadata": {},
   "source": [
    "4.Soru:Gonderilen sayinin faktoriyelini hesaplayan `lambda` fonksiyonunu yaziniz."
   ]
  },
  {
   "cell_type": "code",
   "execution_count": 15,
   "id": "2d7f7052-74bb-472e-9f51-de38954a31b7",
   "metadata": {},
   "outputs": [
    {
     "data": {
      "text/plain": [
       "120"
      ]
     },
     "execution_count": 15,
     "metadata": {},
     "output_type": "execute_result"
    }
   ],
   "source": [
    "fak = lambda x: x* fak(x-1) if x >1 else 1\n",
    "\n",
    "fak(5)"
   ]
  },
  {
   "cell_type": "markdown",
   "id": "f1493e1e-e7fc-4976-a7c3-aaa9e1f68fa7",
   "metadata": {},
   "source": [
    "### Gömülü Fonksiyonlar\n",
    "Daha önce gördüğümüz print() gömülü bir fonksiyondur. Aynı şekilde `open()`, `type()`,`len()`, `pow()`, `bin()` ve şimdiye kadar tanıştığımız öteki bütün fonksiyonlar birer gömülü fonksiyondur.Bir fonksiyonu kullanabilmemiz için o fonksiyonu tanımlamamız gerekir. İşte gömülü fonksiyonlar, bizim tanımlamamıza gerek kalmadan, Python geliştiricileri tarafından önceden tanımlanıp dile gömülmüş ve hizmetimize sunulmuş faydalı birtakım araçlardır.\n",
    "\n",
    "Türkçe çeviri dokumantasyonu için linki ziyaret edebilirsiniz.\n",
    "https://docs.python.org/tr/3/library/functions.html \n",
    "\n",
    "**map fonksiyonu**  \n",
    "`map` fonksiyonu iteratif nesnenin fonksiyona gönderilip sonucun elde edilmesini sağlar.Dönüş değeri `map` nesnesidir.  \n",
    "Kullanım biçimi `map(fonksiyon, iteratif_nesne)`\n",
    "\n",
    "```python\n",
    "kare_al = lambda x : x**2 \n",
    "\n",
    "map(kare_al, [1,2,3])\n",
    "```"
   ]
  },
  {
   "cell_type": "code",
   "execution_count": null,
   "id": "3fd800ac-2824-4381-99c7-f8d7cb3f30ef",
   "metadata": {},
   "outputs": [],
   "source": []
  },
  {
   "cell_type": "markdown",
   "id": "32b181d7-6a7f-4770-9fba-6db5ad5cf83f",
   "metadata": {},
   "source": [
    "1.Soru: Verilen listenin karekokunu hesaplayan map fonksiyonunu yaziniz.\n",
    "```python\n",
    "sayilar = [1, 4, 9, 16, 25]\n",
    "```"
   ]
  },
  {
   "cell_type": "code",
   "execution_count": null,
   "id": "3665aaf4-b9fc-4cda-ac42-60bde5ee92b9",
   "metadata": {},
   "outputs": [],
   "source": []
  },
  {
   "cell_type": "markdown",
   "id": "38b119cc-fec8-43d2-b791-bb13ff6acc4c",
   "metadata": {},
   "source": [
    "2.Soru: Verilen listedeki ifadeleri map fonksiyonu kullanarak buyuk harfe ceviriniz.\n",
    "```python\n",
    "    kelimeler = ['python', 'programlama', 'dili']\n",
    "```"
   ]
  },
  {
   "cell_type": "code",
   "execution_count": null,
   "id": "2d3d3878-c688-4b3d-bd25-31576ed36252",
   "metadata": {},
   "outputs": [],
   "source": []
  },
  {
   "cell_type": "markdown",
   "id": "f40f74d5-8d47-4bd2-8491-27f843b5d209",
   "metadata": {},
   "source": [
    "3.Soru: Verilen listedeki kelimelerin harf sayisini bulunuz.\n",
    "```python\n",
    "kelimeler = ['merhaba', 'dunya', 'python']\n",
    "```"
   ]
  },
  {
   "cell_type": "code",
   "execution_count": null,
   "id": "35a993a1-da95-469c-b784-9988e5025237",
   "metadata": {},
   "outputs": [],
   "source": []
  },
  {
   "cell_type": "markdown",
   "id": "4a896176-096d-49b2-8c2e-7999b92c6f9d",
   "metadata": {},
   "source": [
    "4.Soru: Verilen listenin karekokunu bulunuz.\n",
    "```python\n",
    "sayilar = [1, 4, 9, 16, 25]\n",
    "```"
   ]
  },
  {
   "cell_type": "code",
   "execution_count": null,
   "id": "b371aaf1-d91a-4585-bfb0-6feb94716dae",
   "metadata": {},
   "outputs": [],
   "source": []
  },
  {
   "cell_type": "markdown",
   "id": "ce3bf92e-f963-4268-be5d-f1c087373897",
   "metadata": {},
   "source": [
    "**reduce fonksiyonu**  \n",
    "reduce() fonksiyonu değer olarak aldığı fonksiyonu soldan başlayarak listenin ilk 2 elemanına uygular ve daha sonra çıkan sonucu listenin 3.elemanına uygular ve bu şekilde devam ederek liste bitince bir tane değer döner.\n",
    "\n",
    "`reduce`(fonksiyon, iteratif_degisken)\n",
    "\n",
    "```python\n",
    "from functools import reduce\n",
    "\n",
    "liste = [12,18,20,10]\n",
    "\n",
    "reduc1 = reduce(lambda x,y:x+y,liste)\n",
    "print(reduc1)\n",
    "```\n",
    "\n",
    "![reduce](reduce.jpeg)"
   ]
  },
  {
   "cell_type": "code",
   "execution_count": null,
   "id": "ad0c3d9b-0781-4f91-bbb3-b4faab4e49c3",
   "metadata": {},
   "outputs": [],
   "source": []
  },
  {
   "cell_type": "markdown",
   "id": "e6715701-eaa7-4041-8b3d-ebbbae130c2d",
   "metadata": {},
   "source": [
    "1.Soru: Listenin elemanlarini toplayan `reduce` fonksiyonunu yaziniz.\n",
    "```python\n",
    "liste = [1, 2, 3, 4, 5]\n",
    "```"
   ]
  },
  {
   "cell_type": "code",
   "execution_count": null,
   "id": "05b45e30-1f62-4527-9103-eb7362ebc70d",
   "metadata": {},
   "outputs": [],
   "source": []
  },
  {
   "cell_type": "markdown",
   "id": "5a0b5720-0358-44e1-bd51-543eeb1dce01",
   "metadata": {},
   "source": [
    "2.Soru: Listedeki buyuk elemani bulan `reduce` fonksiyonunu yaziniz.\n",
    "```python\n",
    "liste = [10, 30, 5, 40, 20]\n",
    "```"
   ]
  },
  {
   "cell_type": "code",
   "execution_count": null,
   "id": "681ccf8b-57c3-4f93-b39b-dea115073c7e",
   "metadata": {},
   "outputs": [],
   "source": []
  },
  {
   "cell_type": "markdown",
   "id": "4c80174c-f0a4-46d1-9ea5-5bd44a5e1ee0",
   "metadata": {},
   "source": [
    "3.Soru: Listedeki minimum elemani bulan fonksiyonu yaziniz.\n",
    "```python\n",
    "liste = [10, 30, 5, 40, 20]\n",
    "```"
   ]
  },
  {
   "cell_type": "code",
   "execution_count": null,
   "id": "bdc62b48-8850-4b8b-91e1-320336bf9c83",
   "metadata": {},
   "outputs": [],
   "source": []
  },
  {
   "cell_type": "markdown",
   "id": "7bbe435f-4991-4ae4-bd87-27b5902a70f2",
   "metadata": {},
   "source": [
    "4.Soru:Liste elemanlarini carpan fonksiyonu yaziniz.\n",
    "```python\n",
    "liste = [1, 2, 3, 4, 5]\n",
    "```"
   ]
  },
  {
   "cell_type": "code",
   "execution_count": null,
   "id": "d2d2eac4-e17b-4d26-b259-45df6e55e919",
   "metadata": {},
   "outputs": [],
   "source": []
  },
  {
   "cell_type": "markdown",
   "id": "091b246b-65e9-429f-963f-36fa8ba42073",
   "metadata": {},
   "source": [
    "**filter fonksiyonu**  \n",
    "`filter()` fonksiyonu hemen hemen `reduce()` fonksiyonu ile aynıdır fakat `filter()`fonksiyonu için verilen parametredeki fonksiyon sadece mantıksal(True, False) bir değer döndürmelidir.\n",
    "\n",
    "`filter`(fonksiyon, iteratif_degisken)\n",
    "\n",
    "```python\n",
    "filter(lambda x : x>10, [1,11, 20,8])\n",
    "```"
   ]
  },
  {
   "cell_type": "code",
   "execution_count": null,
   "id": "b62c1336-deb9-4ef2-ae1f-471cdba68540",
   "metadata": {},
   "outputs": [],
   "source": []
  },
  {
   "cell_type": "markdown",
   "id": "89a24ece-aa10-4567-8e93-a44cbd93d5ad",
   "metadata": {},
   "source": [
    "1.Soru: Lsitedeki tekrarli elemanlari bulunuz.\n",
    "```python\n",
    "liste = [1, 2, 2, 3, 4, 4, 5, 6, 6]\n",
    "```"
   ]
  },
  {
   "cell_type": "code",
   "execution_count": null,
   "id": "40d2c2b1-78b9-4617-9bb5-ade6880edec4",
   "metadata": {},
   "outputs": [],
   "source": []
  },
  {
   "cell_type": "markdown",
   "id": "29e84344-4fee-4a4b-8506-37d1f5fbc5cb",
   "metadata": {},
   "source": [
    "2.Soru: Listedeki cift sayilari listeleyiniz.\n",
    "```python\n",
    "liste = [1, 2, 3, 4, 5, 6, 7, 8, 9, 10]\n",
    "```"
   ]
  },
  {
   "cell_type": "code",
   "execution_count": null,
   "id": "c6da89de-2583-47c4-8d1d-94a2ce4e616b",
   "metadata": {},
   "outputs": [],
   "source": []
  },
  {
   "cell_type": "code",
   "execution_count": null,
   "id": "25f9f0e5-a649-46c4-b5ba-00018947120b",
   "metadata": {},
   "outputs": [],
   "source": []
  },
  {
   "cell_type": "markdown",
   "id": "e94b23dc-987d-4baa-9ed3-1ba3505e4a10",
   "metadata": {},
   "source": [
    "**zip fonksiyonu**  \n",
    "`zip()` fonksiyonu kısacası gruplandırma işlemini yapar.\n",
    "\n",
    "`zip`(deger1 , deger2)\n",
    "\n",
    "```python\n",
    "zip([1,2],['Adana','Aydın'])\n",
    "list(zip([1,2],['Adana','Aydın']))\n",
    "```"
   ]
  },
  {
   "cell_type": "code",
   "execution_count": null,
   "id": "0698db03-f991-4d8a-8d8d-5531d978c4ae",
   "metadata": {},
   "outputs": [],
   "source": []
  },
  {
   "cell_type": "markdown",
   "id": "b0472c64-ac77-45e5-986d-fe4ab40d8fd6",
   "metadata": {},
   "source": [
    "1.Soru: Asagidaki listeleri birlestiriniz. Not ortalamalarini hesaplayiniz.\n",
    "```python\n",
    "ogrenci_adlari = ['Ali', 'Ayşe', 'Fatma']\n",
    "notlar_matematik = [80, 90, 85]\n",
    "notlar_fizik = [75, 85, 80]\n",
    "```"
   ]
  },
  {
   "cell_type": "code",
   "execution_count": 63,
   "id": "915c69aa-a5a3-485d-a86e-44df4c682de4",
   "metadata": {},
   "outputs": [
    {
     "name": "stdout",
     "output_type": "stream",
     "text": [
      "Ali : 77.5\n",
      "Ayşe : 87.5\n",
      "Fatma : 82.5\n"
     ]
    }
   ],
   "source": [
    "ogrenci_adlari = ['Ali', 'Ayşe', 'Fatma']\n",
    "notlar_matematik = [80, 90, 85]\n",
    "notlar_fizik = [75, 85, 80]\n",
    "x = list(zip(ogrenci_adlari,notlar_matematik,notlar_fizik))\n",
    "for isim,mat,fiz in x:\n",
    "    print(f\"{isim} : {(mat+fiz)/2}\")"
   ]
  },
  {
   "cell_type": "code",
   "execution_count": 65,
   "id": "d17d62dd-e4fd-4e40-b8ba-70a14bb58507",
   "metadata": {},
   "outputs": [
    {
     "name": "stdout",
     "output_type": "stream",
     "text": [
      "('a', 'b', 'c')\n",
      "(1, 2, 3)\n"
     ]
    }
   ],
   "source": [
    "# ORnek\n",
    "liste = [('a', 1), ('b', 2), ('c', 3)]\n",
    "harfler, sayilar = zip(*liste)\n",
    "print(harfler)  # Çıktı: ('a', 'b', 'c')\n",
    "print(sayilar)  # Çıktı: (1, 2, 3)"
   ]
  },
  {
   "cell_type": "markdown",
   "id": "1bfb374d-1d07-410d-903f-cd8b74fb6923",
   "metadata": {},
   "source": [
    "**enumerate fonksiyonu**  \n",
    "`enumerate` fonksiyonu verilen degiskenin her bir içeriğine indis atayarak yeni nesne oluşturur.  \n",
    "\n",
    "`enumerate`(degisken)\n",
    "\n",
    "```python\n",
    "enumerate(['ali','veli'])\n",
    "list(enumerate(['ali','veli']))\n",
    "```"
   ]
  },
  {
   "cell_type": "code",
   "execution_count": null,
   "id": "5436dc64-975c-455b-886b-bc97ffc12534",
   "metadata": {},
   "outputs": [],
   "source": []
  },
  {
   "cell_type": "markdown",
   "id": "d6837d38-6e3b-4dbc-b8b5-345de1ab5d15",
   "metadata": {},
   "source": [
    "\n",
    "**1. Soru: `map` Fonksiyonu**\n",
    "   \n",
    "   ```python\n",
    "   # Verilen liste elemanlarını iki katına çıkaran bir map fonksiyonu oluşturun.\n",
    "   orijinal_liste = [1, 2, 3, 4, 5]\n",
    "   ```"
   ]
  },
  {
   "cell_type": "code",
   "execution_count": null,
   "id": "f61fdd39-1555-4893-81cd-a05b5e084ea4",
   "metadata": {},
   "outputs": [],
   "source": []
  },
  {
   "cell_type": "markdown",
   "id": "c713568a-e6bb-4c91-ac6d-d74f61ed07d5",
   "metadata": {},
   "source": [
    "\n",
    "**2. Soru: `filter` Fonksiyonu**\n",
    "\n",
    "   ```python\n",
    "   # Verilen bir listede çift sayıları filtreleyen bir filter fonksiyonu oluşturun.\n",
    "   liste = [1, 2, 3, 4, 5, 6, 7, 8, 9, 10]\n",
    "   ```"
   ]
  },
  {
   "cell_type": "code",
   "execution_count": null,
   "id": "3a7eb385-ab4a-4fbb-96eb-3b7d398694cf",
   "metadata": {},
   "outputs": [],
   "source": []
  },
  {
   "cell_type": "markdown",
   "id": "c8f88432-f790-4066-93ff-88f80dd31153",
   "metadata": {},
   "source": [
    "\n",
    "**3. Soru: `reduce` Fonksiyonu**\n",
    "\n",
    "   ```python\n",
    "   # Verilen bir listedeki sayıları toplamak için reduce fonksiyonunu kullanın.\n",
    "\n",
    "   liste = [1, 2, 3, 4, 5]\n",
    "   ```"
   ]
  },
  {
   "cell_type": "code",
   "execution_count": null,
   "id": "41269654-9701-43e2-bb09-a0858b4b51fd",
   "metadata": {},
   "outputs": [],
   "source": []
  },
  {
   "cell_type": "markdown",
   "id": "9a811613-2a4d-49bb-b7c8-fc0ee684230a",
   "metadata": {},
   "source": [
    "**4. Soru: `zip` Fonksiyonu**\n",
    "\n",
    "   ```python\n",
    "   # İki listeyi birleştirerek bir çift oluşturan  zip ile bir liste oluşturun.\n",
    "   isimler = [\"Alice\", \"Bob\", \"Charlie\"]\n",
    "   yaslar = [25, 30, 35]\n",
    "   ```"
   ]
  },
  {
   "cell_type": "code",
   "execution_count": null,
   "id": "c23f338d-76c0-42bf-8c3e-c02a4641c431",
   "metadata": {},
   "outputs": [],
   "source": []
  },
  {
   "cell_type": "markdown",
   "id": "c2089c2a-07fc-4b82-afbb-125b170e57d5",
   "metadata": {},
   "source": [
    "**5. Soru: `map` ve `lambda` İle Liste Elemanlarını Kare Alma**\n",
    "\n",
    "   ```python\n",
    "   # Verilen bir listedeki sayıların karelerini alan bir map fonksiyonu oluşturun.\n",
    "   orijinal_liste = [1, 2, 3, 4, 5]\n",
    "   ```"
   ]
  },
  {
   "cell_type": "code",
   "execution_count": null,
   "id": "c54d9c2a-12f6-4cf7-89ef-37a6e1623c8f",
   "metadata": {},
   "outputs": [],
   "source": []
  },
  {
   "cell_type": "markdown",
   "id": "637467a3-7d78-4cfc-a83f-3dd311477eef",
   "metadata": {},
   "source": [
    "**6. Soru: `filter` ve `lambda` İle Pozitif Sayıları Filtreleme**\n",
    "\n",
    "   ```python\n",
    "   # Verilen bir listedeki pozitif sayıları filtreleyen bir filter fonksiyonu oluşturun.\n",
    "   liste = [-2, -1, 0, 1, 2]\n",
    "   ```"
   ]
  },
  {
   "cell_type": "code",
   "execution_count": null,
   "id": "2279df27-e338-493a-bb00-d9d9130b8f68",
   "metadata": {},
   "outputs": [],
   "source": []
  },
  {
   "cell_type": "markdown",
   "id": "c98a0061-1bc2-4743-b48f-b592c7e4fd71",
   "metadata": {},
   "source": [
    "**7. Soru: `reduce` ve `lambda` İle Faktöriyel Hesaplama**\n",
    "\n",
    "   ```python\n",
    "   # Verilen bir sayının faktöriyelini hesaplayan bir reduce fonksiyonu oluşturun.\n",
    "   x = 5\n",
    "   ```"
   ]
  },
  {
   "cell_type": "code",
   "execution_count": null,
   "id": "66cbc75d-42f7-434d-8fea-eb75e49174c8",
   "metadata": {},
   "outputs": [],
   "source": []
  },
  {
   "cell_type": "markdown",
   "id": "6e752853-ee1a-413a-85bf-6c1648f03aec",
   "metadata": {},
   "source": [
    "**8. Soru: `zip` İle Sözlük Oluşturma**\n",
    "\n",
    "   ```python\n",
    "   # Verilen iki listeyi kullanarak bir sözlük oluşturan bir zip fonksiyonu oluşturun.\n",
    "   meyveler = [\"elma\", \"armut\", \"kiraz\"]\n",
    "   miktarlar = [3, 5, 2]\n",
    "   ```"
   ]
  },
  {
   "cell_type": "markdown",
   "id": "9ff5ad76-69f8-4ac7-b8df-3af2929a5a81",
   "metadata": {},
   "source": [
    "**9. Soru: `map` ile Alan Bulma**  \n",
    "Elinizde bir dikdörtgenin kenarlarını ifade eden sayı çiftlerinin bulunduğu bir liste olsun.\n",
    "`[(3,4),(10,3),(5,6),(1,9)]` verilen dikdörtgenin alanlarını hesaplayınız. `map` fonksiyonunu kullanarak cozunuz."
   ]
  },
  {
   "cell_type": "code",
   "execution_count": null,
   "id": "499d30b7-807f-43be-b93e-5c99dae84c26",
   "metadata": {},
   "outputs": [],
   "source": []
  },
  {
   "cell_type": "markdown",
   "id": "053151e1-af3f-435e-80bb-08130d43c204",
   "metadata": {},
   "source": [
    "### Nesne Yönelimli Programlama\n",
    "\n",
    "Python'da Nesne Yönelimli Programlama (OOP) kullanarak sınıflar oluşturabiliriz. Bu sınıfların özellikleri ve davranışları tanımlayarak nesneler üretebiliriz. Örnek olarak, bir Hayvan sınıfı oluşturup bu sınıftan türetilmiş Köpek ve Kedi sınıfları üzerinden ilerleyebiliriz. Aşağıda bu konseptleri açıklayan örnek kodlar bulunmaktadır.\n",
    "\n",
    "1. **Nesne Yönelimli Programlama (OOP):**\n",
    "\n",
    "```python\n",
    "class Hayvan:\n",
    "    def __init__(self, isim, tur):\n",
    "        self.isim = isim\n",
    "        self.tur = tur\n",
    "\n",
    "    def ses_cikar(self):\n",
    "        raise NotImplementedError(\"Alt sınıflar bu metodu implemente etmelidir.\")\n",
    "\n",
    "class Kedi(Hayvan):\n",
    "    def ses_cikar(self):\n",
    "        return \"Miyav!\"\n",
    "\n",
    "class Köpek(Hayvan):\n",
    "    def ses_cikar(self):\n",
    "        return \"Hav hav!\"\n",
    "\n",
    "kedi = Kedi(\"Minnoş\", \"Kedi\")\n",
    "print(kedi.isim)  # Çıktı: Minnoş\n",
    "print(kedi.ses_cikar())  # Çıktı: Miyav!\n",
    "\n",
    "köpek = Köpek(\"Karabaş\", \"Köpek\")\n",
    "print(köpek.isim)  # Çıktı: Karabaş\n",
    "print(köpek.ses_cikar())  # Çıktı: Hav hav!\n",
    "```\n"
   ]
  },
  {
   "cell_type": "code",
   "execution_count": null,
   "id": "9a35c453-d775-4264-8ad6-783844e87836",
   "metadata": {},
   "outputs": [],
   "source": []
  },
  {
   "cell_type": "markdown",
   "id": "d193a028-8f7a-4bd8-b4df-5bbd433669fa",
   "metadata": {},
   "source": [
    "2. **Miras Alma (Inheritance):**\n",
    "Yukarıdaki örnekte görüldüğü gibi, Köpek ve Kedi sınıfları Hayvan sınıfından miras alarak onun özelliklerini ve davranışlarını kullanıyor.\n",
    "\n",
    "3. **Kurucu (Constructor) ve Yıkıcı (Destructor) Metotlar:**\n",
    "Python'da kurucu metot `__init__()` ile tanımlanırken, yıkıcı metot `__del__()` ile tanımlanır. Aşağıda örnek bir sınıf verilmiştir:\n",
    "\n",
    "```python\n",
    "class Araba:\n",
    "    def __init__(self, marka, model):\n",
    "        self.marka = marka\n",
    "        self.model = model\n",
    "        print(f\"{self.marka} {self.model} aracı oluşturuldu.\")\n",
    "\n",
    "    def __del__(self):\n",
    "        print(f\"{self.marka} {self.model} aracı silindi.\")\n",
    "\n",
    "araba1 = Araba(\"Ford\", \"Focus\")\n",
    "del araba1  # araba1 nesnesini sil\n",
    "```"
   ]
  },
  {
   "cell_type": "code",
   "execution_count": null,
   "id": "3bf7d5ee-5407-44cb-bd55-22c3435acd14",
   "metadata": {},
   "outputs": [],
   "source": []
  },
  {
   "cell_type": "markdown",
   "id": "7edd0eb8-6f23-434a-b20a-5c2c7ce93d88",
   "metadata": {},
   "source": [
    "\n",
    "4. **Gizlilik (Encapsulation):**\n",
    "Python'da gizlilik kavramı, bir sınıfın içindeki bazı özelliklerin ve metotların diğer sınıflar tarafından doğrudan erişilemez olmasını sağlar. Bunu `__` (iki alt çizgi) ile sağlarız. Örnek:\n",
    "\n",
    "```python\n",
    "class Veritabanı:\n",
    "    def __init__(self):\n",
    "        self.__parola = \"gizli_parola\"\n",
    "\n",
    "    def veritabanına_baglan(self):\n",
    "        print(\"Veritabanına bağlanıldı.\")\n",
    "\n",
    "    def __veritabanı_sifresi_goster(self):\n",
    "        return self.__parola\n",
    "\n",
    "db = Veritabanı()\n",
    "db.veritabanına_baglan()\n",
    "# db.__veritabanı_sifresi_goster()  # Hata: 'Veritabanı' object has no attribute '__veritabanı_sifresi_goster'\n",
    "```"
   ]
  },
  {
   "cell_type": "code",
   "execution_count": null,
   "id": "0006733e-563c-40ef-a1f9-b8a3a888a0c0",
   "metadata": {},
   "outputs": [],
   "source": []
  },
  {
   "cell_type": "markdown",
   "id": "e124561e-58e1-43c3-b977-b02f2a938a52",
   "metadata": {},
   "source": [
    "5. **Python'da Modül Yazımı:**\n",
    "Python'da modül, bir veya daha fazla sınıf, fonksiyon ve değişken içeren bir Python dosyasıdır. Örnek olarak, `hesaplama.py` adında bir modül oluşturalım:\n",
    "\n",
    "```python\n",
    "# hesaplama.py\n",
    "\n",
    "def toplama(a, b):\n",
    "    return a + b\n",
    "\n",
    "def cikarma(a, b):\n",
    "    return a - b\n",
    "\n",
    "def carpma(a, b):\n",
    "    return a * b\n",
    "\n",
    "def bolme(a, b):\n",
    "    if b != 0:\n",
    "        return a / b\n",
    "    else:\n",
    "        raise ValueError(\"Sıfıra bölme hatası!\")\n",
    "```\n",
    "\n",
    "Bu modülü kullanmak için başka bir dosyada şu şekilde kullanabiliriz:\n",
    "\n",
    "```python\n",
    "import hesaplama\n",
    "\n",
    "print(hesaplama.toplama(5, 3))  # Çıktı: 8\n",
    "print(hesaplama.cikarma(10, 4))  # Çıktı: 6\n",
    "print(hesaplama.carpma(6, 7))  # Çıktı: 42\n",
    "print(hesaplama.bolme(10, 2))  # Çıktı: 5.0\n",
    "```"
   ]
  },
  {
   "cell_type": "code",
   "execution_count": null,
   "id": "4fe73a92-23c8-483e-bbf3-e515f6b1a2fe",
   "metadata": {},
   "outputs": [],
   "source": []
  },
  {
   "cell_type": "markdown",
   "id": "30a9768a-5f79-4b24-8666-158505695456",
   "metadata": {},
   "source": [
    "---\n",
    "Sorular\n",
    "\n",
    "1. **Müşteri Sınıfı Oluşturma:**\n",
    "```python\n",
    "class Musteri:\n",
    "    def __init__(self, ad, soyad, email):\n",
    "        self.ad = ad\n",
    "        self.soyad = soyad\n",
    "        self.email = email\n",
    "\n",
    "    def tam_ad(self):\n",
    "        return f\"{self.ad} {self.soyad}\"\n",
    "\n",
    "    def bilgileri_goster(self):\n",
    "        print(f\"Adı: {self.ad}\\nSoyadı: {self.soyad}\\nEmail: {self.email}\")\n",
    "\n",
    "\n",
    "# Örnek kullanım\n",
    "musteri1 = Musteri(\"Ahmet\", \"Yılmaz\", \"ahmet@example.com\")\n",
    "musteri1.bilgileri_goster()\n",
    "```\n",
    "\n",
    "2. **Araba Sınıfı Oluşturma:**\n",
    "```python\n",
    "class Araba:\n",
    "    def __init__(self, marka, model, yil):\n",
    "        self.marka = marka\n",
    "        self.model = model\n",
    "        self.yil = yil\n",
    "        self.km = 0\n",
    "\n",
    "    def bilgileri_goster(self):\n",
    "        print(f\"Marka: {self.marka}\\nModel: {self.model}\\nYıl: {self.yil}\\nKilometre: {self.km} km\")\n",
    "\n",
    "    def km_ekle(self, ek_km):\n",
    "        self.km += ek_km\n",
    "        print(f\"{ek_km} km eklendi. Toplam kilometre: {self.km}\")\n",
    "\n",
    "\n",
    "# Örnek kullanım\n",
    "araba1 = Araba(\"Toyota\", \"Corolla\", 2020)\n",
    "araba1.bilgileri_goster()\n",
    "araba1.km_ekle(10000)\n",
    "```\n",
    "\n",
    "3. **Kitap Sınıfı Oluşturma:**\n",
    "```python\n",
    "class Kitap:\n",
    "    def __init__(self, ad, yazar, sayfa_sayisi):\n",
    "        self.ad = ad\n",
    "        self.yazar = yazar\n",
    "        self.sayfa_sayisi = sayfa_sayisi\n",
    "\n",
    "    def bilgileri_goster(self):\n",
    "        print(f\"Kitap Adı: {self.ad}\\nYazar: {self.yazar}\\nSayfa Sayısı: {self.sayfa_sayisi}\")\n",
    "\n",
    "\n",
    "# Örnek kullanım\n",
    "kitap1 = Kitap(\"Python Programlama\", \"Guido van Rossum\", 400)\n",
    "kitap1.bilgileri_goster()\n",
    "```\n"
   ]
  }
 ],
 "metadata": {
  "kernelspec": {
   "display_name": "Python 3 (ipykernel)",
   "language": "python",
   "name": "python3"
  },
  "language_info": {
   "codemirror_mode": {
    "name": "ipython",
    "version": 3
   },
   "file_extension": ".py",
   "mimetype": "text/x-python",
   "name": "python",
   "nbconvert_exporter": "python",
   "pygments_lexer": "ipython3",
   "version": "3.11.8"
  }
 },
 "nbformat": 4,
 "nbformat_minor": 5
}
