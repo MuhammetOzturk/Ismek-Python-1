{
 "cells": [
  {
   "cell_type": "markdown",
   "id": "9030c637-85ba-4ed7-81b8-24ec1006d060",
   "metadata": {},
   "source": [
    "## Rekürsif Fonksiyonlar\n",
    "Rekürsif fonksiyonlar, bir fonksiyonun kendi kendini çağırdığı bir programlama tekniğidir. Rekürsif fonksiyonlar, problemleri daha küçük alt problemlere bölerek çözmeye odaklanan bir yaklaşım sunar. Bir fonksiyonun rekürsif olması için, her bir çağrıda fonksiyonun daha küçük bir problemi çözecek şekilde tasarlanmış olmalıdır.\n",
    "\n",
    "```python\n",
    "def faktoriyel(n):\n",
    "    if n == 0 or n == 1:\n",
    "        return 1\n",
    "    else:\n",
    "        return n * faktoriyel(n - 1)\n",
    "\n",
    "# Örnek kullanım\n",
    "sayi = 5\n",
    "sonuc = faktoriyel(sayi)\n",
    "print(f\"{sayi} faktöriyeli: {sonuc}\")\n",
    "```\n",
    "\n",
    "Bu örnekte, `faktoriyel` fonksiyonu kendisini (`faktoriyel(n-1)`) çağırarak n! (n faktöriyel) hesaplamaktadır. Fonksiyon, temel durumu kontrol eder (n'nin 0 veya 1 olması durumunda 1'i döndürür) ve aksi takdirde n'yi küçülterek kendisini çağırır. Bu, her çağrıda bir önceki adıma geri dönerek problemi küçültmeye dayanan tipik bir rekürsif yapıdır.\n",
    "\n",
    "Rekürsif fonksiyonlar, özellikle ağaç yapısı problemleri gibi yapısal problemleri çözmek için kullanışlıdır. Ancak, dikkatli bir şekilde tasarlanmalıdır çünkü yanlış bir şekilde kullanıldığında sonsuz döngülere veya gereksiz hesaplama maliyetine yol açabilirler.\n",
    "\n",
    "Rekürsif fonksiyonlarla çalışırken şu temel prensipleri hatırlamak önemlidir:\n",
    "\n",
    "1. **Temel Durum (Base Case):** Rekürsif çağrıların durması için bir temel durum belirleyin.\n",
    "   \n",
    "2. **İleri Adım (Recursive Case):** Problemi daha küçük bir alt problem haline getirmek için fonksiyonu kendisi içinde çağırın.\n",
    "\n",
    "3. **İlerleme:** Her rekürsif çağrıda problemi küçülterek ilerleyin, aksi takdirde sonsuz bir döngüye düşebilirsiniz.\n",
    "\n",
    "Rekürsif fonksiyonlar, bazı durumlarda daha anlaşılır ve okunabilir bir kod sağlayabilir, ancak doğru kullanılmaları ve gereksiz yere derin rekürsif çağrılardan kaçınılması önemlidir."
   ]
  },
  {
   "cell_type": "code",
   "execution_count": null,
   "id": "bfc76d7c-26ba-4d44-94af-06e67ee13738",
   "metadata": {},
   "outputs": [],
   "source": []
  },
  {
   "cell_type": "markdown",
   "id": "9150b125-f080-46bb-a606-152c80b2d86a",
   "metadata": {},
   "source": [
    "## Fonksiyonların Kapsamı ve global Deyimi\n",
    "\n",
    "Python'da fonksiyonların kapsamı (scope), bir değişkenin nerede tanımlandığına ve erişilebildiği yerlere bağlı olarak belirlenen bir konsepttir. İki temel kapsam türü vardır: yerel kapsam (local scope) ve global kapsam (global scope). Ayrıca, gömülü fonksiyonlar gibi belirli kapsamlar da bulunabilir. İşte bu kavramları açıklamak için örnekler:\n",
    "\n",
    "**1. Yerel Kapsam (Local Scope):**\n",
    "\n",
    "Yerel kapsam, bir değişkenin bir fonksiyon içinde tanımlandığı ve sadece o fonksiyon içinde erişilebilir olduğu kapsamdır.\n",
    "\n",
    "```python\n",
    "def fonksiyon():\n",
    "    local_variable = 10\n",
    "    print(local_variable)\n",
    "\n",
    "fonksiyon()\n",
    "# print(local_variable)  # Hata: local_variable is not defined\n",
    "```\n",
    "\n",
    "Burada `local_variable` değişkeni, sadece `fonksiyon` içinde tanımlıdır ve bu nedenle fonksiyon dışında erişilemez. Fonksiyon çağrısı yapıldığında, `local_variable`'ın değeri ekrana yazdırılır."
   ]
  },
  {
   "cell_type": "code",
   "execution_count": null,
   "id": "bcba39c0-a999-472b-b6b5-2efaa93d116b",
   "metadata": {},
   "outputs": [],
   "source": []
  },
  {
   "cell_type": "code",
   "execution_count": null,
   "id": "90947b58-0e7a-4395-b290-ea3a33eaa768",
   "metadata": {},
   "outputs": [],
   "source": [
    "local_variable = 0\n",
    "def fonksiyon():\n",
    "    local_variable = 10\n",
    "    print(local_variable)\n",
    "\n",
    "\n",
    "fonksiyon()\n",
    "print(local_variable)"
   ]
  },
  {
   "cell_type": "markdown",
   "id": "56f9d425-6db4-4507-b241-2e0e47feeef5",
   "metadata": {},
   "source": [
    "\n",
    "**2. Global Kapsam (Global Scope):**\n",
    "\n",
    "Global kapsam, bir değişkenin programın en üst düzeyinde tanımlandığı ve programın herhangi bir yerinde erişilebildiği kapsamdır.\n",
    "\n",
    "```python\n",
    "global_variable = 20\n",
    "\n",
    "def fonksiyon():\n",
    "    print(global_variable)\n",
    "\n",
    "fonksiyon()\n",
    "print(global_variable)\n",
    "```\n",
    "\n",
    "Burada `global_variable` değişkeni, programın en üst düzeyinde tanımlandığı için hem `fonksiyon` içinde hem de dışında erişilebilir. Fonksiyon içindeki çağrıda ve sonraki dışındaki çağrıda değeri ekrana yazdırılır.\n"
   ]
  },
  {
   "cell_type": "code",
   "execution_count": null,
   "id": "a93a0815-47c1-4023-91ae-c0fa76097d73",
   "metadata": {},
   "outputs": [],
   "source": []
  },
  {
   "cell_type": "code",
   "execution_count": null,
   "id": "e16182c9-5a13-43e7-b113-0d40cf2d4b1d",
   "metadata": {},
   "outputs": [],
   "source": [
    "global_variable = 20\n",
    "\n",
    "def fonksiyon():\n",
    "    global_variable = 0\n",
    "    print(global_variable)\n",
    "\n",
    "fonksiyon()\n",
    "print(global_variable)"
   ]
  },
  {
   "cell_type": "markdown",
   "id": "e18c68cc-988b-48e2-826a-c51a879f50e0",
   "metadata": {},
   "source": [
    "**3. Girişim (Enclosure) Kapsamı:**\n",
    "\n",
    "Girişim kapsamı, bir iç içe fonksiyonun dıştaki fonksiyonun değişkenlerine erişebildiği bir kapsam türüdür.\n",
    "\n",
    "```python\n",
    "def dis_fonksiyon():\n",
    "    outer_variable = 30\n",
    "\n",
    "    def ic_fonksiyon():\n",
    "        print(outer_variable)\n",
    "\n",
    "    ic_fonksiyon()\n",
    "\n",
    "dis_fonksiyon()\n",
    "# print(outer_variable)  # Hata: outer_variable is not defined\n",
    "```\n",
    "\n",
    "Burada `ic_fonksiyon` içinde, `outer_variable` değişkenine erişilebilir. Ancak, bu değişkenin doğrudan dış fonksiyonun dışında erişilmesi mümkün değildir.\n",
    "\n",
    "Kapsam konsepti, değişkenlerin nasıl tanımlandığına ve erişilebildiğine dair önemli bir kavramdır. Programınızın düzenli ve hatasız olması için kapsamı doğru bir şekilde anlamak önemlidir."
   ]
  },
  {
   "cell_type": "code",
   "execution_count": null,
   "id": "7af8fb07-65c6-4a01-bfaf-21b50519ab3e",
   "metadata": {},
   "outputs": [],
   "source": []
  },
  {
   "cell_type": "code",
   "execution_count": null,
   "id": "b9fdd0b7-8602-4516-99f9-d2be01803e64",
   "metadata": {},
   "outputs": [],
   "source": [
    "#x = 0\n",
    "def dis_fonksiyon():\n",
    "    outer_variable = 30\n",
    "    print(id(outer_variable))\n",
    "    def ic_fonksiyon():\n",
    "        #outer_variable = 0\n",
    "        print(id(outer_variable))\n",
    "        print(outer_variable)\n",
    "        #print(x)\n",
    "    ic_fonksiyon()\n",
    "    print(outer_variable)\n",
    "\n",
    "dis_fonksiyon()\n",
    "# print(outer_variable)  # Hata: outer_variable is not defined"
   ]
  },
  {
   "cell_type": "code",
   "execution_count": null,
   "id": "5edf3460-309f-4354-85ab-3520d2fb371f",
   "metadata": {},
   "outputs": [],
   "source": [
    "x = []\n",
    "y = 0\n",
    "print('x\\'in ilk hali:', x)\n",
    "def değiştir():\n",
    "    print('x\\'i değiştiriyoruz...')\n",
    "    x.append(1)\n",
    "    y = 1\n",
    "    return x\n",
    "değiştir()\n",
    "print('x\\'in son hali: ', x)\n",
    "print(y)"
   ]
  },
  {
   "cell_type": "markdown",
   "id": "23402867-5bb6-4ac4-99da-d8e9ff628291",
   "metadata": {},
   "source": [
    "Python herhangi bir nesneye göndermede bulunduğumuzda, yani o nesnenin değerini talep\n",
    "ettiğimizde aradığımız nesneyi ilk önce mevcut isim alanı içinde arar. Eğer aranan nesneyi\n",
    "mevcut isim alanı içinde bulamazsa yukarıya doğru bütün isim alanlarını tek tek kontrol eder.\n",
    "Eğer bir nesne değiştirilebilir bir nesne ise, o nesnenin değerini, lokal isim alanlarından\n",
    "değiştirebilirsiniz.\n",
    "\n",
    "```python\n",
    "x = set()\n",
    "def fonk():\n",
    "    x.add(10)\n",
    "    return x\n",
    "print(fonk())\n",
    "```"
   ]
  },
  {
   "cell_type": "code",
   "execution_count": null,
   "id": "6f7c48d7-4613-4375-b1e8-a2c44b430502",
   "metadata": {},
   "outputs": [],
   "source": []
  },
  {
   "cell_type": "markdown",
   "id": "7488b060-9ae6-4fee-9064-b5f5fb23329f",
   "metadata": {},
   "source": [
    "Ama eğer bir nesne değiştirilemez bir nesne ise, o nesnenin değerini zaten normalde de\n",
    "değiştiremezsiniz. Değiştirmiş gibi yapmak için ise o nesneyi yeniden tanımlamanız gerektiğini\n",
    "biliyorsunuz:\n",
    "\n",
    "```python\n",
    "isim = 'muhammet'\n",
    "isim += 'ozturk'\n",
    "print(isim)\n",
    "```\n",
    "\n",
    "```python\n",
    "isim = 'muhammet'\n",
    "print(id(isim))\n",
    "isim += ' ozturk'\n",
    "print(id(isim))\n",
    "print(isim)\n",
    "```"
   ]
  },
  {
   "cell_type": "code",
   "execution_count": null,
   "id": "b0665d07-6d46-482e-8781-dcbfa690792a",
   "metadata": {},
   "outputs": [],
   "source": []
  },
  {
   "cell_type": "markdown",
   "id": "9645df56-9241-43fb-bb1c-1759b90417b3",
   "metadata": {},
   "source": [
    "Burada yaptığımız şey, karakter dizisinin değerini değiştirmekten ziyade bu karakter dizisini\n",
    "yeniden tanımlamaktır. Çünkü bildiğiniz gibi karakter dizileri değiştirilemeyen veri tipleridir.\n",
    "İşte karakter dizileri gibi değiştirilemeyen nesneleri,\n",
    "değiştiremeyeceğiniz gibi, yeniden tanımlayamazsınız.\n",
    "\n",
    "```python\n",
    "isim = 'Muhammet'\n",
    "def fonk():\n",
    "    isim += ' Ozturk'\n",
    "    return isim\n",
    "print(fonk())\n",
    "\n",
    "#cannot access local variable 'isim' where it is not associated with a value\n",
    "#bir değerle ilişkilendirilmemiş 'isim' yerel değişkenine erişilemiyor\n",
    "\n",
    "```"
   ]
  },
  {
   "cell_type": "code",
   "execution_count": null,
   "id": "82352898-33b8-4fb6-b130-0282fcbb5c2d",
   "metadata": {},
   "outputs": [],
   "source": []
  },
  {
   "cell_type": "markdown",
   "id": "eb075f4a-fda6-4b71-a46a-2efd8912088d",
   "metadata": {},
   "source": [
    "#### global değişkeni\n",
    "\n",
    "`global` anahtar kelimesi, genellikle yerel bir değişkenin global bir değişkenle aynı adı taşıdığı durumlarda veya bir fonksiyon içinde global bir değişkeni güncelleme ihtiyacı olduğunda kullanılır.\n",
    "```python\n",
    "isim = 'Muhammet'\n",
    "def fonk():\n",
    "    global isim\n",
    "    isim += ' Ozturk'\n",
    "    return isim\n",
    "print(fonk())\n",
    "```"
   ]
  },
  {
   "cell_type": "code",
   "execution_count": null,
   "id": "c6648cbd-4f66-4e90-ba45-22c236fada90",
   "metadata": {},
   "outputs": [],
   "source": []
  },
  {
   "cell_type": "markdown",
   "id": "4b1506af-ebe4-43bd-85fe-67b9e9b0f55e",
   "metadata": {},
   "source": [
    "**lambda fonksiyonu**  \n",
    "Python'da `lambda` ifadesi, küçük ve anonim (isimsiz) fonksiyonlar oluşturmak için kullanılır. Lambda fonksiyonları genellikle kısa ölçümler veya birkaç satırda yazılabilecek küçük görevler için kullanışlıdır. Lambda ifadesi, `lambda` kelimesiyle başlar, ardından parametre listesi, iki nokta (`:`), ve sonrasında bir ifade bulunur. İşte lambda ifadesinin temel yapısı:\n",
    "\n",
    "```python\n",
    "lambda parametreler: ifade\n",
    "```\n",
    "\n",
    "Örnek kullanım:\n",
    "\n",
    "```python\n",
    "# İki sayıyı toplayan bir lambda fonksiyonu\n",
    "topla = lambda x, y: x + y\n",
    "print(topla(3, 5))  # Çıktı: 8\n",
    "```"
   ]
  },
  {
   "cell_type": "code",
   "execution_count": null,
   "id": "a3bc4ae9-445e-4423-ab5f-9e47fcef02c8",
   "metadata": {},
   "outputs": [],
   "source": []
  },
  {
   "cell_type": "markdown",
   "id": "f1493e1e-e7fc-4976-a7c3-aaa9e1f68fa7",
   "metadata": {},
   "source": [
    "### Gömülü Fonksiyonlar\n",
    "Daha önce gördüğümüz print() gömülü bir fonksiyondur. Aynı şekilde `open()`, `type()`,`len()`, `pow()`, `bin()` ve şimdiye kadar tanıştığımız öteki bütün fonksiyonlar birer gömülü fonksiyondur.Bir fonksiyonu kullanabilmemiz için o fonksiyonu tanımlamamız gerekir. İşte gömülü fonksiyonlar, bizim tanımlamamıza gerek kalmadan, Python geliştiricileri tarafından önceden tanımlanıp dile gömülmüş ve hizmetimize sunulmuş faydalı birtakım araçlardır.\n",
    "\n",
    "Türkçe çeviri dokumantasyonu için linki ziyaret edebilirsiniz.\n",
    "https://docs.python.org/tr/3/library/functions.html \n",
    "\n",
    "**map fonksiyonu**  \n",
    "`map` fonksiyonu iteratif nesnenin fonksiyona gönderilip sonucun elde edilmesini sağlar.Dönüş değeri `map` nesnesidir.  \n",
    "Kullanım biçimi `map(fonksiyon, iteratif_nesne)`\n",
    "\n",
    "```python\n",
    "kare_al = lambda x : x**2 \n",
    "\n",
    "map(kare_al, [1,2,3])\n",
    "```"
   ]
  },
  {
   "cell_type": "code",
   "execution_count": null,
   "id": "3fd800ac-2824-4381-99c7-f8d7cb3f30ef",
   "metadata": {},
   "outputs": [],
   "source": []
  },
  {
   "cell_type": "markdown",
   "id": "ce3bf92e-f963-4268-be5d-f1c087373897",
   "metadata": {},
   "source": [
    "**reduce fonksiyonu**  \n",
    "reduce() fonksiyonu değer olarak aldığı fonksiyonu soldan başlayarak listenin ilk 2 elemanına uygular ve daha sonra çıkan sonucu listenin 3.elemanına uygular ve bu şekilde devam ederek liste bitince bir tane değer döner.\n",
    "\n",
    "`reduce`(fonksiyon, iteratif_degisken)\n",
    "\n",
    "```python\n",
    "from functools import reduce\n",
    "\n",
    "liste = [12,18,20,10]\n",
    "\n",
    "reduc1 = reduce(lambda x,y:x+y,liste)\n",
    "print(reduc1)\n",
    "```\n",
    "\n",
    "![reduce](reduce.jpeg)"
   ]
  },
  {
   "cell_type": "code",
   "execution_count": null,
   "id": "ad0c3d9b-0781-4f91-bbb3-b4faab4e49c3",
   "metadata": {},
   "outputs": [],
   "source": []
  },
  {
   "cell_type": "markdown",
   "id": "091b246b-65e9-429f-963f-36fa8ba42073",
   "metadata": {},
   "source": [
    "**filter fonksiyonu**  \n",
    "`filter()` fonksiyonu hemen hemen `reduce()` fonksiyonu ile aynıdır fakat `filter()`fonksiyonu için verilen parametredeki fonksiyon sadece mantıksal(True, False) bir değer döndürmelidir.\n",
    "\n",
    "`filter`(fonksiyon, iteratif_degisken)\n",
    "\n",
    "```python\n",
    "filter(lambda x : x>10, [1,11, 20,8])\n",
    "```"
   ]
  },
  {
   "cell_type": "code",
   "execution_count": null,
   "id": "b62c1336-deb9-4ef2-ae1f-471cdba68540",
   "metadata": {},
   "outputs": [],
   "source": []
  },
  {
   "cell_type": "markdown",
   "id": "e94b23dc-987d-4baa-9ed3-1ba3505e4a10",
   "metadata": {},
   "source": [
    "**zip fonksiyonu**  \n",
    "`zip()` fonksiyonu kısacası gruplandırma işlemini yapar.\n",
    "\n",
    "`zip`(deger1 , deger2)\n",
    "\n",
    "```python\n",
    "zip([1,2],['Adana','Aydın'])\n",
    "list(zip([1,2],['Adana','Aydın']))\n",
    "```"
   ]
  },
  {
   "cell_type": "code",
   "execution_count": null,
   "id": "0698db03-f991-4d8a-8d8d-5531d978c4ae",
   "metadata": {},
   "outputs": [],
   "source": []
  },
  {
   "cell_type": "markdown",
   "id": "1bfb374d-1d07-410d-903f-cd8b74fb6923",
   "metadata": {},
   "source": [
    "**enumerate fonksiyonu**  \n",
    "`enumerate` fonksiyonu verilen degiskenin her bir içeriğine indis atayarak yeni nesne oluşturur.  \n",
    "\n",
    "`enumerate`(degisken)\n",
    "\n",
    "```python\n",
    "enumerate(['ali','veli'])\n",
    "list(enumerate(['ali','veli']))\n",
    "```"
   ]
  },
  {
   "cell_type": "code",
   "execution_count": null,
   "id": "5436dc64-975c-455b-886b-bc97ffc12534",
   "metadata": {},
   "outputs": [],
   "source": []
  },
  {
   "cell_type": "markdown",
   "id": "d6837d38-6e3b-4dbc-b8b5-345de1ab5d15",
   "metadata": {},
   "source": [
    "\n",
    "**1. Soru: `map` Fonksiyonu**\n",
    "   \n",
    "   ```python\n",
    "   # Verilen liste elemanlarını iki katına çıkaran bir map fonksiyonu oluşturun.\n",
    "   orijinal_liste = [1, 2, 3, 4, 5]\n",
    "   ```"
   ]
  },
  {
   "cell_type": "code",
   "execution_count": null,
   "id": "f61fdd39-1555-4893-81cd-a05b5e084ea4",
   "metadata": {},
   "outputs": [],
   "source": []
  },
  {
   "cell_type": "markdown",
   "id": "c713568a-e6bb-4c91-ac6d-d74f61ed07d5",
   "metadata": {},
   "source": [
    "\n",
    "**2. Soru: `filter` Fonksiyonu**\n",
    "\n",
    "   ```python\n",
    "   # Verilen bir listede çift sayıları filtreleyen bir filter fonksiyonu oluşturun.\n",
    "   liste = [1, 2, 3, 4, 5, 6, 7, 8, 9, 10]\n",
    "   ```"
   ]
  },
  {
   "cell_type": "code",
   "execution_count": null,
   "id": "3a7eb385-ab4a-4fbb-96eb-3b7d398694cf",
   "metadata": {},
   "outputs": [],
   "source": []
  },
  {
   "cell_type": "markdown",
   "id": "c8f88432-f790-4066-93ff-88f80dd31153",
   "metadata": {},
   "source": [
    "\n",
    "**3. Soru: `reduce` Fonksiyonu**\n",
    "\n",
    "   ```python\n",
    "   # Verilen bir listedeki sayıları toplamak için reduce fonksiyonunu kullanın.\n",
    "\n",
    "   liste = [1, 2, 3, 4, 5]\n",
    "   ```"
   ]
  },
  {
   "cell_type": "code",
   "execution_count": null,
   "id": "41269654-9701-43e2-bb09-a0858b4b51fd",
   "metadata": {},
   "outputs": [],
   "source": []
  },
  {
   "cell_type": "markdown",
   "id": "9a811613-2a4d-49bb-b7c8-fc0ee684230a",
   "metadata": {},
   "source": [
    "**4. Soru: `zip` Fonksiyonu**\n",
    "\n",
    "   ```python\n",
    "   # İki listeyi birleştirerek bir çift oluşturan  zip ile bir liste oluşturun.\n",
    "   isimler = [\"Alice\", \"Bob\", \"Charlie\"]\n",
    "   yaslar = [25, 30, 35]\n",
    "   ```"
   ]
  },
  {
   "cell_type": "code",
   "execution_count": null,
   "id": "c23f338d-76c0-42bf-8c3e-c02a4641c431",
   "metadata": {},
   "outputs": [],
   "source": []
  },
  {
   "cell_type": "markdown",
   "id": "c2089c2a-07fc-4b82-afbb-125b170e57d5",
   "metadata": {},
   "source": [
    "**5. Soru: `map` ve `lambda` İle Liste Elemanlarını Kare Alma**\n",
    "\n",
    "   ```python\n",
    "   # Verilen bir listedeki sayıların karelerini alan bir map fonksiyonu oluşturun.\n",
    "   orijinal_liste = [1, 2, 3, 4, 5]\n",
    "   ```"
   ]
  },
  {
   "cell_type": "code",
   "execution_count": null,
   "id": "c54d9c2a-12f6-4cf7-89ef-37a6e1623c8f",
   "metadata": {},
   "outputs": [],
   "source": []
  },
  {
   "cell_type": "markdown",
   "id": "637467a3-7d78-4cfc-a83f-3dd311477eef",
   "metadata": {},
   "source": [
    "**6. Soru: `filter` ve `lambda` İle Pozitif Sayıları Filtreleme**\n",
    "\n",
    "   ```python\n",
    "   # Verilen bir listedeki pozitif sayıları filtreleyen bir filter fonksiyonu oluşturun.\n",
    "   liste = [-2, -1, 0, 1, 2]\n",
    "   ```"
   ]
  },
  {
   "cell_type": "code",
   "execution_count": null,
   "id": "2279df27-e338-493a-bb00-d9d9130b8f68",
   "metadata": {},
   "outputs": [],
   "source": []
  },
  {
   "cell_type": "markdown",
   "id": "c98a0061-1bc2-4743-b48f-b592c7e4fd71",
   "metadata": {},
   "source": [
    "**7. Soru: `reduce` ve `lambda` İle Faktöriyel Hesaplama**\n",
    "\n",
    "   ```python\n",
    "   # Verilen bir sayının faktöriyelini hesaplayan bir reduce fonksiyonu oluşturun.\n",
    "   x = 5\n",
    "   ```"
   ]
  },
  {
   "cell_type": "code",
   "execution_count": null,
   "id": "66cbc75d-42f7-434d-8fea-eb75e49174c8",
   "metadata": {},
   "outputs": [],
   "source": []
  },
  {
   "cell_type": "markdown",
   "id": "6e752853-ee1a-413a-85bf-6c1648f03aec",
   "metadata": {},
   "source": [
    "**8. Soru: `zip` İle Sözlük Oluşturma**\n",
    "\n",
    "   ```python\n",
    "   # Verilen iki listeyi kullanarak bir sözlük oluşturan bir zip fonksiyonu oluşturun.\n",
    "   meyveler = [\"elma\", \"armut\", \"kiraz\"]\n",
    "   miktarlar = [3, 5, 2]\n",
    "   ```"
   ]
  },
  {
   "cell_type": "markdown",
   "id": "9ff5ad76-69f8-4ac7-b8df-3af2929a5a81",
   "metadata": {},
   "source": [
    "**9. Soru: `map` ile Alan Bulma**  \n",
    "Elinizde bir dikdörtgenin kenarlarını ifade eden sayı çiftlerinin bulunduğu bir liste olsun.\n",
    "`[(3,4),(10,3),(5,6),(1,9)]` verilen dikdörtgenin alanlarını hesaplayınız. `map` fonksiyonunu kullanarak cozunuz."
   ]
  },
  {
   "cell_type": "code",
   "execution_count": null,
   "id": "499d30b7-807f-43be-b93e-5c99dae84c26",
   "metadata": {},
   "outputs": [],
   "source": []
  }
 ],
 "metadata": {
  "kernelspec": {
   "display_name": "Python 3 (ipykernel)",
   "language": "python",
   "name": "python3"
  },
  "language_info": {
   "codemirror_mode": {
    "name": "ipython",
    "version": 3
   },
   "file_extension": ".py",
   "mimetype": "text/x-python",
   "name": "python",
   "nbconvert_exporter": "python",
   "pygments_lexer": "ipython3",
   "version": "3.11.8"
  }
 },
 "nbformat": 4,
 "nbformat_minor": 5
}
