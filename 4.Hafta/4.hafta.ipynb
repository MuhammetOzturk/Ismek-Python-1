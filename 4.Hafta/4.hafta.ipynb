{
 "cells": [
  {
   "cell_type": "markdown",
   "id": "27b15f0b-a444-4485-9ec2-b2e184ed4786",
   "metadata": {},
   "source": [
    "## Nesne Yönelimli Programlama\n",
    "Nesne yönelimli programlama, programların daha modüler, esnek, anlaşılabilir ve bakımı kolay hale gelmesini sağlar. Ayrıca, kodun tekrar kullanılabilirliğini artırır ve büyük projelerde daha iyi organize olmayı sağlar. Nesne yönelimli programlama aynı zamanda veri gizliliğini ve güvenliğini artırır, hata ayıklamayı kolaylaştırır ve yazılımın genel kalitesini yükseltir.\n",
    "Bu nedenlerle, nesne yönelimli programlama metodu, yazılım geliştirme sürecinde tercih edilir ve yaygın olarak kullanılan bir programlama paradigmasıdır.\n",
    "\n",
    "Nesne yönelimli programlama metodu, bir dizi temel özellik sağlar. Bu özellikler şunlardır:\n",
    "\n",
    "**1.Soyutlama (Abstraction):** Nesne yönelimli programlama, soyutlama prensibiyle çalışır. Bu, bir sınıfa ait özellik ve davranışların tanımlanmasını sağlar. Örneğin, bir ürüne ait özelliklerin (ürün kodu, adı, fiyatı vb.) ve davranışların (metotlar) bir arada saklanmasını sağlar\n"
   ]
  },
  {
   "cell_type": "code",
   "execution_count": 3,
   "id": "a59580d3-b60d-406d-9c64-f43f2a8cda83",
   "metadata": {},
   "outputs": [
    {
     "data": {
      "text/plain": [
       "'Muhammet'"
      ]
     },
     "execution_count": 3,
     "metadata": {},
     "output_type": "execute_result"
    }
   ],
   "source": [
    "class Calisan:\n",
    "    def __init__(self,isim = None, soyisim = None, departman = None):\n",
    "        self.isim = isim\n",
    "        self.soyisim = soyisim\n",
    "        self.departman = departman\n",
    "\n",
    "calisan = Calisan()\n",
    "calisan.isim = \"Muhammet\"\n",
    "calisan.isim"
   ]
  },
  {
   "cell_type": "markdown",
   "id": "5d1d0f4e-d369-44cf-acb4-f0e9af17b0e4",
   "metadata": {},
   "source": [
    "\n",
    "**2.Kapsülleme (Encapsulation):** Nesne yönelimli programlama, kapsülleme ilkesini kullanarak değişkenleri ve metotları bir arada saklar. Bu sayede verilerin gizliliği sağlanır ve dış dünyadan korunmuş olur. Örneğin, bir sınıf içinde tanımlanan değişkenler ve metotlar dışarıdan erişilemez ve gizli kalır\n"
   ]
  },
  {
   "cell_type": "code",
   "execution_count": 64,
   "id": "2958248d-4a74-4800-bae2-220883cc7d60",
   "metadata": {},
   "outputs": [
    {
     "name": "stdout",
     "output_type": "stream",
     "text": [
      "Toyota\n",
      "Yaris\n"
     ]
    }
   ],
   "source": [
    "class Araba:\n",
    "    def __init__(self, marka, model, yil):\n",
    "        self.__marka = marka  # Kapsüllenmiş özellik\n",
    "        self.__model = model  # Kapsüllenmiş özellik\n",
    "        self.__yil = yil      # Kapsüllenmiş özellik\n",
    "\n",
    "    def get_marka(self):\n",
    "        return self.__marka\n",
    "\n",
    "    def set_marka(self, yeni_marka):\n",
    "        self.__marka = yeni_marka\n",
    "\n",
    "    def get_model(self):\n",
    "        return self.__model\n",
    "\n",
    "    def set_model(self, yeni_model):\n",
    "        self.__model = yeni_model\n",
    "\n",
    "    def get_yil(self):\n",
    "        return self.__yil\n",
    "\n",
    "    def set_yil(self, yeni_yil):\n",
    "        self.__yil = yeni_yil\n",
    "\n",
    "    def get_info(self):  #Soyut metot alt sınıflarda kullanılması için olusturuldu\n",
    "        pass\n",
    "\n",
    "# Araba sınıfından bir nesne oluşturalım\n",
    "araba1 = Araba(\"Toyota\", \"Corolla\", 2022)\n",
    "\n",
    "# Kapsülleme ile erişim kontrolü\n",
    "print(araba1.get_marka())  # Marka bilgisini al\n",
    "araba1.set_model(\"Yaris\")  # Model bilgisini güncelle\n",
    "print(araba1.get_model())  # Güncellenmiş model bilgisini al"
   ]
  },
  {
   "cell_type": "markdown",
   "id": "44a7d1e5-78f3-4182-b78d-f4115f4d5116",
   "metadata": {},
   "source": [
    "\n",
    "**3.Miras Alma (Inheritance):** Nesne yönelimli programlama, miras alma özelliği sayesinde bir sınıfın diğer sınıflardan özelliklerini ve metotlarını devralmasını sağlar. Bu, kodun tekrar kullanılabilirliğini artırır ve sınıflar arasında hiyerarşik ilişkiler kurulmasını sağlar\n"
   ]
  },
  {
   "cell_type": "code",
   "execution_count": 56,
   "id": "c2ea4c61-4c81-4999-aaa6-8a22a8c28f60",
   "metadata": {},
   "outputs": [
    {
     "name": "stdout",
     "output_type": "stream",
     "text": [
      "GTR Nismo\n",
      "Yarıs Arabası\n",
      "\n",
      "INFO:   \n",
      "        Marka : Nissan \n",
      "        Model : GTR Nismo\n",
      "        Yıl   : 2022\n",
      "        \n"
     ]
    }
   ],
   "source": [
    "class YarısArabası(Araba):\n",
    "    def __init__(self, marka, model, yil):\n",
    "        super().__init__(marka,model,yil)\n",
    "        self.__kategori = \"Yarıs Arabası\"\n",
    "\n",
    "    def get_kategori(self):\n",
    "        return self.__kategori\n",
    "\n",
    "    def get_info(self):\n",
    "        print(f\"\"\"\n",
    "        \\rINFO:\n",
    "        Marka : {self.get_marka()} \n",
    "        Model : {self.get_model()}\n",
    "        Yıl   : {self.get_yil()}\n",
    "        \"\"\")\n",
    "        \n",
    "araba2 = YarısArabası(\"Nissan\", \"GTR Nismo\", 2022)\n",
    "print(araba2.get_model())\n",
    "#araba2.__kategori hata!\n",
    "print(araba2.get_kategori())\n",
    "araba2.get_info()\n"
   ]
  },
  {
   "cell_type": "markdown",
   "id": "b4166d0e-42a0-4a0a-be37-9336863fe3a7",
   "metadata": {},
   "source": [
    "**Not:** `super`  miras aldığımız sınıfın metodlarını alt sınıflardan kullanmamızı sağlar"
   ]
  },
  {
   "cell_type": "markdown",
   "id": "da5944ba-ac38-44df-975b-bb092838e48c",
   "metadata": {},
   "source": [
    "\n",
    "**4.Çok Biçimlilik (Polymorphism):** Nesne yönelimli programlama, çok biçimlilik yeteneği sayesinde farklı nesnelerin aynı mesaja farklı şekillerde cevap verebilmesini sağlar. Bu, programın esnekliğini artırır ve farklı nesnelerin aynı metodu farklı şekillerde uygulamasına olanak tanır\n",
    "\n",
    "Bu özellikler, nesne yönelimli programlamanın temelini oluşturur ve yazılım geliştirme sürecinde modülerlik, esneklik, ve veri gizliliği gibi avantajlar sağlar."
   ]
  },
  {
   "cell_type": "code",
   "execution_count": 63,
   "id": "c073f083-c219-45be-949c-5aebfed958db",
   "metadata": {},
   "outputs": [
    {
     "name": "stdout",
     "output_type": "stream",
     "text": [
      "\n",
      "        Marka : Hymer \n",
      "        Model : Grand Canyon S\n",
      "        \n"
     ]
    }
   ],
   "source": [
    "class Karavan(Araba):\n",
    "    def __init__(self, marka, model, yil):\n",
    "        super().__init__(marka,model,yil)\n",
    "        self.__kategori = \"Karavan\"\n",
    "        \n",
    "    def __get_info(self):\n",
    "        print(f\"\"\"\n",
    "        Marka : {self.get_marka()} \n",
    "        Model : {self.get_model()}\n",
    "        \"\"\")\n",
    "\n",
    "    def info(self):\n",
    "        self.__get_info()\n",
    "\n",
    "araba3 = Karavan(\"Hymer\", \"Grand Canyon S\", 2022)\n",
    "#araba3.__get_info() Fonksiyonu dışarıdan ulaşılmaya kapattık\n",
    "araba3.info()"
   ]
  },
  {
   "cell_type": "markdown",
   "id": "1e9f342e-9982-401e-94d1-1740781506a5",
   "metadata": {},
   "source": [
    "## Sorular \n",
    "1. Bir oyun için `Oyuncu` snıfı oluşturun sınıfın `isim`, `rütbe` ve `güç` diye üç niteliği olsun. Bu sınıftan 3 örnek nesne oluşturun.\n",
    "\n",
    "`hareket_et` isimli fonksiyonuna sahip olsun, çağrıldığında ekrana `'Hareket ediliyor...'` yazsın.  \n",
    "`puan_kazan` isimli fonksiyon ise `'Puan kazanıldı'` ekrana yazdırılsın.  \n",
    "`puan_kaybet` isimli fonksiyon ile `'Puan kaybedildi'` ekrana yazdırılsın."
   ]
  },
  {
   "cell_type": "code",
   "execution_count": null,
   "id": "00713d14-4c7c-4e42-8e47-52625badfffc",
   "metadata": {},
   "outputs": [],
   "source": []
  },
  {
   "cell_type": "markdown",
   "id": "1e5b4ece-a6ab-410d-b07c-c6ab0d7cf183",
   "metadata": {},
   "source": [
    "2. `Asker` isimli sınıf `Oyuncu` sınıfını miras alarak  `isim`, `rütbe` ve `güç`  niteliklerine ek olarak `silah` niteliğini alsın.  \n",
    "`ates_et` fonksiyonu ile ekarana `'Ateş ediliyor...'` yazdırılsın."
   ]
  },
  {
   "cell_type": "code",
   "execution_count": null,
   "id": "9e26c3db-b51f-471f-8238-a628b3bed70f",
   "metadata": {},
   "outputs": [],
   "source": []
  },
  {
   "cell_type": "markdown",
   "id": "804bc43f-a431-4a86-9414-9384ec0e044e",
   "metadata": {},
   "source": [
    "3. Bir Hayvan sınıfı oluşturun ve bu sınıftan türeyen Köpek ve Kedi sınıflarında aynı isimde farklı metodlar tanımlayın.(Çok biçimlilik)"
   ]
  },
  {
   "cell_type": "code",
   "execution_count": null,
   "id": "833326ce-1109-4b25-acd4-946ca90a0c6c",
   "metadata": {},
   "outputs": [],
   "source": []
  },
  {
   "cell_type": "markdown",
   "id": "afc1b0f4-ada2-43df-8abb-f069cc7bfd18",
   "metadata": {},
   "source": [
    "## json modülü\n",
    "Python'un `json` modülü, JSON veri formatıyla çalışmayı sağlayan bir modüldür. Bu modül, Python nesnelerini JSON formatına dönüştürme ve JSON verilerini Python nesnelerine çevirme işlemlerini gerçekleştirmek için kullanılır. İşte `json` modülünün kullanımıyla ilgili detaylı örnekler:\n",
    "\n",
    "1. **JSON Verisini Python Sözlüğüne Çevirme:**\n",
    "   - JSON verisini Python sözlüğüne çevirmek için `json.loads()` fonksiyonu kullanılır. Örneğin:\n",
    "     ```python\n",
    "     import json\n",
    "     kisi = '{\"isim\": \"Yunus\", \"dil\": [\"İngilizce\", \"Almanca\"]}'\n",
    "     kisi_dict = json.loads(kisi)\n",
    "     print(kisi_dict)\n",
    "     ```\n",
    "     Bu örnekte, JSON formatındaki `kisi` verisi Python sözlüğüne (`kisi_dict`) çevrilmektedir.\n",
    "\n",
    "2. **Python Nesnesini JSON'a Dönüştürme:**\n",
    "   - Python nesnelerini JSON formatına dönüştürmek için `json.dumps()` fonksiyonu kullanılır. Örnekler:\n",
    "     ```python\n",
    "     import json\n",
    "     print(json.dumps({\"name\": \"John\", \"age\": 30}))\n",
    "     print(json.dumps([\"apple\", \"bananas\"]))\n",
    "     print(json.dumps((\"apple\", \"bananas\")))\n",
    "     print(json.dumps(\"hello\"))\n",
    "     print(json.dumps(42))\n",
    "     ```\n",
    "     Bu örneklerde, farklı Python veri tipleri JSON formatına dönüştürülmektedir.\n",
    "\n",
    "3. **JSON Verisini Güzel Bir Şekilde Biçimlendirme:**\n",
    "   - JSON verisini daha okunabilir hale getirmek için `json.dumps()` fonksiyonuna `indent` parametresi verilir. Örnek:\n",
    "     ```python\n",
    "     import json\n",
    "     x = {\"name\": \"John\", \"age\": 30, \"married\": True}\n",
    "     print(json.dumps(x, indent=4))\n",
    "     ```\n",
    "     Bu örnekte, JSON verisi belirli bir girintilemeyle yazdırılmaktadır.  \n",
    "\n",
    "\n",
    "1. **JSON Verisini Okuma:**\n",
    "   - JSON verisini okumak için `json.load()` fonksiyonu kullanılır. Örneğin:\n",
    "     ```python\n",
    "     import json\n",
    "     with open('veri.json', 'r') as f:\n",
    "         veri = json.load(f)\n",
    "     print(veri)\n",
    "     ```\n",
    "     Bu örnekte, `veri.json` adlı JSON dosyası okunarak `veri` adlı değişkene yüklenmektedir.\n",
    "\n",
    "2. **JSON Verisini Yazma:**\n",
    "   - JSON verisini bir dosyaya yazmak için `json.dump()` fonksiyonu kullanılır. Örneğin:\n",
    "     ```python\n",
    "     import json\n",
    "     data = {'name': 'John', 'age': 30, 'city': 'New York'}\n",
    "     with open('data.json', 'w') as f:\n",
    "         json.dump(data, f)\n",
    "     ```\n",
    "     Bu örnekte, `data` adlı Python sözlüğü JSON formatına dönüştürülerek `data.json` adlı dosyaya yazılmaktadır.\n",
    "\n",
    "Python'da `json` modülü ile JSON dosyasından verileri alırken `json.load()` ve `json.loads()` fonksiyonları kullanılır.\n",
    "\n",
    "- **json.load():** Bu fonksiyon, bir dosyadan JSON verilerini okumak ve Python nesnelerine dönüştürmek için kullanılır. Örneğin:\n",
    "  ```python\n",
    "  import json\n",
    "  with open('veri.json', 'r') as f:\n",
    "      veri = json.load(f)\n",
    "  print(veri)\n",
    "  ```\n",
    "  Bu örnekte, `veri.json` adlı dosyadan JSON verileri okunarak `veri` adlı değişkene yüklenmektedir.\n",
    "\n",
    "- **json.loads():** Bu fonksiyon, bir JSON dizesini (string) Python nesnelerine dönüştürmek için kullanılır. Örneğin:\n",
    "  ```python\n",
    "  import json\n",
    "  person = '{\"name\": \"Steve\", \"languages\": [\"English\", \"French\"]}'\n",
    "  person_dict = json.loads(person)\n",
    "  print(person_dict)\n",
    "  ```\n",
    "  Bu örnekte, `person` adlı JSON dizesi Python sözlüğüne (`person_dict`) çevrilmektedir.\n",
    "\n",
    "Bu fonksiyonlar, `json` modülü aracılığıyla JSON verilerini Python nesnelerine dönüştürmek için kullanılan temel işlevleri sağlar. Bu sayede JSON formatındaki verileri kolayca okuyabilir ve Python programlarınızda kullanabilirsiniz.\n"
   ]
  },
  {
   "cell_type": "code",
   "execution_count": 87,
   "id": "4fdfa8e2-2104-468a-9fe7-c1c2cdfcaf49",
   "metadata": {},
   "outputs": [],
   "source": [
    "nesne = json.dumps((\"apple\", \"bananas\"))\n",
    "with open(\"sil.json\",\"w\") as fd:\n",
    "    json.dump(nesne,fd)"
   ]
  },
  {
   "cell_type": "code",
   "execution_count": 88,
   "id": "380b0fb0-f302-4e50-970f-55d180d115c7",
   "metadata": {},
   "outputs": [
    {
     "name": "stdout",
     "output_type": "stream",
     "text": [
      "\"[\\\"apple\\\", \\\"bananas\\\"]\""
     ]
    }
   ],
   "source": [
    "!cat sil.json"
   ]
  },
  {
   "cell_type": "markdown",
   "id": "3e5ea556-074a-4c94-87f6-b339c16eca02",
   "metadata": {},
   "source": [
    "## Sorular\n",
    "\n",
    "\n",
    "1. **JSON Verisini Okuma:**\n",
    "   - Bir JSON dosyasından veri okuyarak ekrana yazdıran bir Python programı yazınız.\n",
    "\n",
    "2. **JSON Verisini Yazma:**\n",
    "   - Kullanıcıdan alınan verilerle oluşturulan bir Python sözlüğünü JSON formatında bir dosyaya yazdıran bir program yazınız.\n",
    "\n",
    "3. **JSON Verisini Dönüştürme:**\n",
    "   - Bir JSON dizesini Python sözlüğüne dönüştüren ve bu sözlüğü ekrana yazdıran bir Python programı yazınız.\n",
    "\n",
    "4. **JSON Verisini Güzel Biçimde Yazdırma:**\n",
    "   - Bir Python sözlüğünü JSON formatına dönüştürdükten sonra, bu JSON verisini güzel bir şekilde biçimlendirerek ekrana yazdıran bir program yazınız.\n",
    "\n",
    "5. **JSON Verisini Doğrulama:**\n",
    "   - Kullanıcıdan alınan bir JSON dizesinin geçerli olup olmadığını kontrol eden bir Python programı yazınız. Geçerli ise \"JSON verisi doğrulandı\" çıktısı versin, değilse hata mesajı göstersin.\n",
    "\n"
   ]
  },
  {
   "cell_type": "code",
   "execution_count": 92,
   "id": "6a78b1d2-e989-4519-b08b-707ce28cb1c4",
   "metadata": {},
   "outputs": [],
   "source": [
    "icerik = \"\"\"\n",
    "{\n",
    "    \"players\": [\n",
    "        {\n",
    "            \"playerName\": \"Player1\",\n",
    "            \"playerScore\": 100,\n",
    "            \"isPlayerAlive\": true\n",
    "        },\n",
    "        {\n",
    "            \"playerName\": \"Player2\",\n",
    "            \"playerScore\": 150,\n",
    "            \"isPlayerAlive\": false\n",
    "        },\n",
    "        {\n",
    "            \"playerName\": \"Player3\",\n",
    "            \"playerScore\": 75,\n",
    "            \"isPlayerAlive\": true\n",
    "        }\n",
    "    ]\n",
    "}\n",
    "\"\"\"\n",
    "with open(\"dosya.json\", \"w\") as fd:\n",
    "    fd.write( icerik)"
   ]
  },
  {
   "cell_type": "code",
   "execution_count": null,
   "id": "852a72f6-c4a6-4436-936a-ff68b10da3fd",
   "metadata": {},
   "outputs": [],
   "source": []
  },
  {
   "cell_type": "markdown",
   "id": "5332292f-b705-4243-afdf-4923d6ff1699",
   "metadata": {},
   "source": [
    "Python'da hata yönetimi, programların çalışırken oluşabilecek hatalara karşı önlem almayı ve bu hatalarla başa çıkmayı sağlayan bir yapıdır. Hata yönetimi genellikle `try`, `except`, `finally`, ve `raise` anahtar kelimeleriyle gerçekleştirilir.\n",
    "\n",
    "- **try-except Blokları:** \n",
    "  - `try` bloğu içinde potansiyel hata oluşturabilecek kodlar yer alır. Eğer bu blokta bir hata oluşursa, program `except` bloğuna geçer ve hata burada işlenir.\n",
    "  \n",
    "- **finally Bloğu:**\n",
    "  - `finally` bloğu, hata olsun veya olmasın her durumda çalıştırılacak kodları içerir. Örneğin, dosya kapatma işlemi gibi temizleme işlemleri bu blokta yapılabilir.\n",
    "\n",
    "- **raise():**\n",
    "  - `raise()` fonksiyonu, belirli bir hata durumunda programın belirli bir hata mesajı veya istisna fırlatmasını sağlar. Bu, programcının belirli koşullar altında hata oluşturmasını sağlar.\n",
    "\n",
    "Python'da hata yönetimi, programların daha güvenli ve sağlam bir şekilde çalışmasını sağlar. Hataların kontrol altına alınması, programların daha tutarlı ve kullanıcı dostu olmasını sağlar. Bu yapılar, programcılara hataları öngörmeleri ve uygun şekilde işlemeleri için esneklik sağlar.\n",
    "\n",
    "Python'da hata yönetimi ile alakalı örnek kodlarla açıklama şu şekilde olabilir:\n",
    "\n",
    "1. **Hata Türüne Göre İşlem Yapma:**\n",
    "   - Kullanıcıdan alınan inputun bir sayı olup olmadığını kontrol eden ve hata türüne göre farklı mesajlar veren bir program:\n",
    "     ```python\n",
    "     try:\n",
    "         num = int(input(\"Bir sayı girin: \"))\n",
    "     except ValueError:\n",
    "         print(\"Lütfen geçerli bir sayı girin.\")\n",
    "     ```\n",
    "\n",
    "2. **Dosya İşlemlerinde Hata Yönetimi:**\n",
    "   - Belirli bir dosyayı açmaya çalışırken oluşabilecek hataları yöneten ve kullanıcıya uygun mesajlar veren bir program:\n",
    "     ```python\n",
    "     try:\n",
    "         file = open(\"dosya.txt\", \"r\")\n",
    "         content = file.read()\n",
    "         file.close()\n",
    "     except FileNotFoundError:\n",
    "         print(\"Dosya bulunamadı.\")\n",
    "     ```\n",
    "\n",
    "3. **Özel Hata Mesajı Oluşturma:**\n",
    "   - Belirli bir koşul sağlandığında özel bir hata mesajı üreten ve bu hatayı yöneten bir program:\n",
    "     ```python\n",
    "     try:\n",
    "         age = int(input(\"Yaşınızı girin: \"))\n",
    "         if age < 0:\n",
    "             raise ValueError(\"Yaş negatif olamaz.\")\n",
    "     except ValueError as ve:\n",
    "         print(ve)\n",
    "     ```\n",
    "\n",
    "4. **Hata Yakalama ve İstisnalar:**\n",
    "   - Python'da yaygın hata türlerinden birini ele alarak, try-except blokları kullanarak hata yönetimi sağlayan bir program:\n",
    "     ```python\n",
    "     try:\n",
    "         result = 10 / 0\n",
    "     except ZeroDivisionError:\n",
    "         print(\"Sıfıra bölme hatası.\")\n",
    "     ```\n",
    "\n",
    "5. **Dosya İşlemlerinde Güvenli Hata Yönetimi:**\n",
    "   - Dosya işlemlerinde hata yönetimini sağlayarak, dosya açma, yazma veya okuma işlemlerinde oluşabilecek hatalara karşı güvenli bir şekilde program:\n",
    "     ```python\n",
    "     try:\n",
    "         with open(\"veriler.txt\", \"r\") as file:\n",
    "             data = file.read()\n",
    "     except IOError:\n",
    "         print(\"Dosya okuma hatası.\")\n",
    "     ```"
   ]
  }
 ],
 "metadata": {
  "kernelspec": {
   "display_name": "Python 3 (ipykernel)",
   "language": "python",
   "name": "python3"
  },
  "language_info": {
   "codemirror_mode": {
    "name": "ipython",
    "version": 3
   },
   "file_extension": ".py",
   "mimetype": "text/x-python",
   "name": "python",
   "nbconvert_exporter": "python",
   "pygments_lexer": "ipython3",
   "version": "3.11.8"
  }
 },
 "nbformat": 4,
 "nbformat_minor": 5
}
