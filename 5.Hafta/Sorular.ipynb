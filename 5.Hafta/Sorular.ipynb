{
 "cells": [
  {
   "cell_type": "markdown",
   "id": "da0fea8f-78e0-44af-aeeb-d2f4f6bf4e6d",
   "metadata": {},
   "source": [
    "**1-Tablodaki satir satir sayisini bulunuz.**"
   ]
  },
  {
   "cell_type": "code",
   "execution_count": null,
   "id": "2c94eb30-1562-404c-b236-3e600e044697",
   "metadata": {},
   "outputs": [],
   "source": []
  },
  {
   "cell_type": "markdown",
   "id": "0114288a-1255-4ed0-9d77-7ed3c7988f59",
   "metadata": {},
   "source": [
    "**2-Fiyati 30 TL den buyuk olanlari listeleyiniz.**"
   ]
  },
  {
   "cell_type": "code",
   "execution_count": null,
   "id": "e6d9996d-cc3d-4223-994a-fb4d3f95acf1",
   "metadata": {},
   "outputs": [],
   "source": []
  },
  {
   "cell_type": "markdown",
   "id": "f333e8ed-56c0-4fb0-af0d-35443464efdf",
   "metadata": {},
   "source": [
    "**3-Yazar arasında Fırat ismine sahip olan satırları listele**"
   ]
  },
  {
   "cell_type": "code",
   "execution_count": null,
   "id": "d5a2cde0-76d1-4bab-9ffa-0c142aadbe51",
   "metadata": {},
   "outputs": [],
   "source": []
  },
  {
   "cell_type": "markdown",
   "id": "8232a2a3-4686-4a44-a195-19deba10cb1a",
   "metadata": {},
   "source": [
    "**4-Kitapların fiyat ortalamalarını bulunuz.**"
   ]
  },
  {
   "cell_type": "code",
   "execution_count": null,
   "id": "44e2f77e-07e6-488a-b8e5-96b2fd158d1f",
   "metadata": {},
   "outputs": [],
   "source": []
  },
  {
   "cell_type": "markdown",
   "id": "5104795e-87b2-490e-ad78-ef12a70bd999",
   "metadata": {},
   "source": [
    "**5-Fıyatı en yuksek olan kıtabı bulunuz.**"
   ]
  },
  {
   "cell_type": "code",
   "execution_count": null,
   "id": "aa57c98e-62ef-49d1-97ce-f69152ed6a7b",
   "metadata": {},
   "outputs": [],
   "source": []
  },
  {
   "cell_type": "markdown",
   "id": "5b7df9a2-f987-4510-b5bf-1a8bb07f494b",
   "metadata": {},
   "source": [
    "**6-Fıyatı en kuçuk olan kitabı bulunuz.**"
   ]
  },
  {
   "cell_type": "code",
   "execution_count": null,
   "id": "cd7a5bfb-928d-453a-bbe1-5bc8442379d0",
   "metadata": {},
   "outputs": [],
   "source": []
  },
  {
   "cell_type": "markdown",
   "id": "f1921af1-139f-441e-9df9-a107f4841a35",
   "metadata": {},
   "source": [
    "**7-Yazarlardan en uzun isme sahip olan yazrı bulunuz.**"
   ]
  },
  {
   "cell_type": "code",
   "execution_count": null,
   "id": "07055f61-849e-46a5-9ee3-0c095197a55d",
   "metadata": {},
   "outputs": [],
   "source": []
  },
  {
   "cell_type": "markdown",
   "id": "70b3e8b7-3a72-4745-b92d-6cfa2aa2e99b",
   "metadata": {},
   "source": [
    "**8-Tabloya yeni bir bilgi ekleyiniz.**"
   ]
  },
  {
   "cell_type": "code",
   "execution_count": null,
   "id": "267e1fa8-b9d1-4601-ab2e-b5874bd6ef98",
   "metadata": {},
   "outputs": [],
   "source": []
  },
  {
   "cell_type": "markdown",
   "id": "ef178599-95eb-432d-9e52-e6d32227bddb",
   "metadata": {},
   "source": [
    "**9-Tablodaki bir kaydı güncelleyiniz.**"
   ]
  },
  {
   "cell_type": "code",
   "execution_count": null,
   "id": "dac8d9d3-17b7-43de-8421-b01b25c314f1",
   "metadata": {},
   "outputs": [],
   "source": []
  },
  {
   "cell_type": "markdown",
   "id": "c412fd53-2285-4997-b32c-9fba3c89a819",
   "metadata": {},
   "source": [
    "**10-Tabloadaki bir kaydı siliniz.**"
   ]
  },
  {
   "cell_type": "code",
   "execution_count": null,
   "id": "c2b2b4c4-ebb1-4dd3-a948-3857614a3c58",
   "metadata": {},
   "outputs": [],
   "source": []
  },
  {
   "cell_type": "markdown",
   "id": "b60c1821-232c-46df-8307-7927d577dbce",
   "metadata": {},
   "source": [
    "**11-Yazar isimlerinde \"an\" gecen satırları listele.**"
   ]
  },
  {
   "cell_type": "code",
   "execution_count": null,
   "id": "058ff36f-77ca-4b6e-93f0-973d2dd49adf",
   "metadata": {},
   "outputs": [],
   "source": []
  },
  {
   "cell_type": "markdown",
   "id": "7dc5afb1-4939-426f-b66d-2b045d3e5c39",
   "metadata": {},
   "source": [
    "**12-Veri tabanına kullanıcı adı ve parola kaydedip bu kullanıcı adı ve parolaları kontrol ederek bilgisayara girişleri kontrol eden login programını yazınız.**"
   ]
  },
  {
   "cell_type": "code",
   "execution_count": null,
   "id": "747f7fec-6a11-438a-84ee-e0815a0bb28b",
   "metadata": {},
   "outputs": [],
   "source": []
  },
  {
   "cell_type": "markdown",
   "id": "20ec9af3-af94-462c-8a70-b9fa93dc88a8",
   "metadata": {},
   "source": [
    "\n",
    "\n",
    "1. **Tablo Oluşturma**: `kullanicilar` adında bir tablo oluşturun. Tabloda `id` (INTEGER, PRIMARY KEY, AUTOINCREMENT), `ad` (TEXT), `yas` (INTEGER) sütunları olsun.\n",
    "\n",
    "2. **Veri Ekleme**: Tabloya 3 farklı kullanıcı ekleyin.\n",
    "\n",
    "3. **Tüm Verileri Seçme**: Kullanıcılar tablosundaki tüm verileri seçin ve ekrana yazdırın.\n",
    "\n",
    "4. **Belirli Koşullara Göre Veri Seçme**: Yaşı 25'ten büyük olan kullanıcıları seçin ve ekrana yazdırın.\n",
    "\n",
    "5. **Veri Güncelleme**: Adı 'Ahmet' olan kullanıcının yaşını 35 yapın.\n",
    "\n",
    "6. **Veri Silme**: Yaşı 30'dan büyük olan kullanıcıları silin.\n",
    "\n",
    "7. **Toplam Veri Sayısı**: Kullanıcılar tablosundaki toplam veri sayısını bulun.\n",
    "\n",
    "8. **Minimum ve Maksimum Değerleri Bulma**: Yaşı en küçük ve en büyük olan kullanıcıların bilgilerini seçin.\n",
    "\n",
    "9. **Sütun Adlarını Alma**: Kullanıcılar tablosundaki sütun adlarını alın.\n",
    "\n",
    "10. **Sıralama ve Limit Kullanımı**: Yaşı en büyük olan 2 kullanıcıyı yaşa göre büyükten küçüğe sıralayarak seçin.\n",
    "\n"
   ]
  },
  {
   "cell_type": "markdown",
   "id": "4e5e7fe2-7766-491b-893e-1aa83e45d055",
   "metadata": {},
   "source": [
    "\n",
    "\n",
    "1. **Tablo Oluşturma**: `kullanicilar` adında bir tablo oluşturun. Tabloda `id` (INTEGER, PRIMARY KEY, AUTOINCREMENT), `ad` (TEXT), `yas` (INTEGER) sütunları olsun.\n",
    "\n",
    "```python\n",
    "import sqlite3\n",
    "\n",
    "# Veritabanı bağlantısını oluşturalım\n",
    "conn = sqlite3.connect('ornek_veritabani.db')\n",
    "cursor = conn.cursor()\n",
    "\n",
    "# Tabloyu oluşturalım\n",
    "cursor.execute('''CREATE TABLE IF NOT EXISTS kullanicilar\n",
    "                (id INTEGER PRIMARY KEY AUTOINCREMENT,\n",
    "                ad TEXT NOT NULL,\n",
    "                yas INTEGER NOT NULL)''')\n",
    "\n",
    "# Değişiklikleri kaydedelim\n",
    "conn.commit()\n",
    "\n",
    "# Bağlantıyı kapat\n",
    "conn.close()\n",
    "```\n",
    "\n",
    "2. **Veri Ekleme**: Tabloya 3 farklı kullanıcı ekleyin.\n",
    "\n",
    "```python\n",
    "# Veritabanı bağlantısını yeniden oluşturalım\n",
    "conn = sqlite3.connect('ornek_veritabani.db')\n",
    "cursor = conn.cursor()\n",
    "\n",
    "# Veri ekleyelim\n",
    "kullanicilar = [\n",
    "    ('Ahmet', 25),\n",
    "    ('Mehmet', 30),\n",
    "    ('Ayşe', 28)\n",
    "]\n",
    "\n",
    "cursor.executemany('INSERT INTO kullanicilar (ad, yas) VALUES (?, ?)', kullanicilar)\n",
    "\n",
    "# Değişiklikleri kaydedelim\n",
    "conn.commit()\n",
    "\n",
    "# Bağlantıyı kapat\n",
    "conn.close()\n",
    "```\n",
    "\n",
    "3. **Tüm Verileri Seçme**: Kullanıcılar tablosundaki tüm verileri seçin ve ekrana yazdırın.\n",
    "\n",
    "```python\n",
    "conn = sqlite3.connect('ornek_veritabani.db')\n",
    "cursor = conn.cursor()\n",
    "\n",
    "cursor.execute('SELECT * FROM kullanicilar')\n",
    "tum_veriler = cursor.fetchall()\n",
    "\n",
    "print(\"Tüm Kullanıcılar:\")\n",
    "for kullanici in tum_veriler:\n",
    "    print(kullanici)\n",
    "\n",
    "conn.close()\n",
    "```\n",
    "\n",
    "4. **Belirli Koşullara Göre Veri Seçme**: Yaşı 25'ten büyük olan kullanıcıları seçin ve ekrana yazdırın.\n",
    "\n",
    "```python\n",
    "conn = sqlite3.connect('ornek_veritabani.db')\n",
    "cursor = conn.cursor()\n",
    "\n",
    "cursor.execute('SELECT * FROM kullanicilar WHERE yas > ?', (25,))\n",
    "yas_buyuk_kullanicilar = cursor.fetchall()\n",
    "\n",
    "print(\"Yaşı 25'ten Büyük Olan Kullanıcılar:\")\n",
    "for kullanici in yas_buyuk_kullanicilar:\n",
    "    print(kullanici)\n",
    "\n",
    "conn.close()\n",
    "```\n",
    "\n",
    "5. **Veri Güncelleme**: Adı 'Ahmet' olan kullanıcının yaşını 35 yapın.\n",
    "\n",
    "```python\n",
    "conn = sqlite3.connect('ornek_veritabani.db')\n",
    "cursor = conn.cursor()\n",
    "\n",
    "cursor.execute('UPDATE kullanicilar SET yas = ? WHERE ad = ?', (35, 'Ahmet'))\n",
    "conn.commit()\n",
    "\n",
    "print(\"Ahmet kullanıcısının yaşını güncelledik.\")\n",
    "\n",
    "conn.close()\n",
    "```\n",
    "\n",
    "6. **Veri Silme**: Yaşı 30'dan büyük olan kullanıcıları silin.\n",
    "\n",
    "```python\n",
    "conn = sqlite3.connect('ornek_veritabani.db')\n",
    "cursor = conn.cursor()\n",
    "\n",
    "cursor.execute('DELETE FROM kullanicilar WHERE yas > ?', (30,))\n",
    "conn.commit()\n",
    "\n",
    "print(\"Yaşı 30'dan büyük olan kullanıcıları sildik.\")\n",
    "\n",
    "conn.close()\n",
    "```\n",
    "\n",
    "7. **Toplam Veri Sayısı**: Kullanıcılar tablosundaki toplam veri sayısını bulun.\n",
    "\n",
    "```python\n",
    "conn = sqlite3.connect('ornek_veritabani.db')\n",
    "cursor = conn.cursor()\n",
    "\n",
    "cursor.execute('SELECT COUNT(*) FROM kullanicilar')\n",
    "toplam_veri_sayisi = cursor.fetchone()[0]\n",
    "\n",
    "print(\"Toplam Veri Sayısı:\", toplam_veri_sayisi)\n",
    "\n",
    "conn.close()\n",
    "```\n",
    "\n",
    "8. **Minimum ve Maksimum Değerleri Bulma**: Yaşı en küçük ve en büyük olan kullanıcıların bilgilerini seçin.\n",
    "\n",
    "```python\n",
    "conn = sqlite3.connect('ornek_veritabani.db')\n",
    "cursor = conn.cursor()\n",
    "\n",
    "cursor.execute('SELECT * FROM kullanicilar WHERE yas = (SELECT MIN(yas) FROM kullanicilar)')\n",
    "en_kucuk_yasli = cursor.fetchone()\n",
    "cursor.execute('SELECT * FROM kullanicilar WHERE yas = (SELECT MAX(yas) FROM kullanicilar)')\n",
    "en_buyuk_yasli = cursor.fetchone()\n",
    "\n",
    "print(\"Yaşı En Küçük Olan Kullanıcı:\", en_kucuk_yasli)\n",
    "print(\"Yaşı En Büyük Olan Kullanıcı:\", en_buyuk_yasli)\n",
    "\n",
    "conn.close()\n",
    "```\n",
    "\n",
    "9. **Sütun Adlarını Alma**: Kullanıcılar tablosundaki sütun adlarını alın.\n",
    "\n",
    "```python\n",
    "conn = sqlite3.connect('ornek_veritabani.db')\n",
    "cursor = conn.cursor()\n",
    "\n",
    "cursor.execute('PRAGMA table_info(kullanicilar)')\n",
    "sutunlar = cursor.fetchall()\n",
    "\n",
    "print(\"Sütunlar:\")\n",
    "for sutun in sutunlar:\n",
    "    print(sutun[1])\n",
    "\n",
    "conn.close()\n",
    "```\n",
    "\n",
    "10. **Sıralama ve Limit Kullanımı**: Yaşı en büyük olan 2 kullanıcıyı yaşa göre büyükten küçüğe sıralayarak seçin.\n",
    "\n",
    "```python\n",
    "conn = sqlite3.connect('ornek_veritabani.db')\n",
    "cursor = conn.cursor()\n",
    "\n",
    "cursor.execute('SELECT * FROM kullanicilar ORDER BY yas DESC LIMIT 2')\n",
    "en_buyuk_iki_kullanici = cursor.fetchall()\n",
    "\n",
    "print(\"Yaşı En Büyük Olan 2 Kullanıcı:\")\n",
    "for kullanici in en_buyuk_iki_kullanici:\n",
    "    print(kullanici)\n",
    "\n",
    "conn.close()\n",
    "```\n"
   ]
  },
  {
   "cell_type": "code",
   "execution_count": 3,
   "id": "f72fa1bd-5165-4c9a-8334-cb90e52450cf",
   "metadata": {},
   "outputs": [],
   "source": [
    "import sqlite3\n",
    "\n",
    "#vt.sqlite adlı bir veritabanı dosyası oluşturup #bu veritabanına bağlanıyoruz. db = sqlite3.connect(\"vt.sqlite\")\n",
    "\n",
    "#Veritabanı üzerinde istediğimiz işlemleri yapabilmek #için bir imleç oluşturmamız gerekiyor. im = db.cursor()\n",
    "\n",
    "#imlecin execute() metodunu kullanarak, veritabanı içinde #\"kullanicilar\" adlı bir tablo oluşturuyoruz. Bu tabloda #kullanıcı_adi ve parola olmak üzere iki farklı sütun var. im.execute(\"\"\"CREATE TABLE IF NOT EXISTS kullanicilar (kullanici_adi, parola)\"\"\")\n",
    "\n",
    "#Yukarıda oluşturduğumuz tabloya yerleştireceğimiz verileri #hazırlıyoruz. Verilerin liste içinde birer demet olarak #nasıl gösterildiğine özellikle dikkat ediyoruz. veriler = [ (\"ahmet123\", \"12345678\"), (\"mehmet321\", \"87654321\"), (\"selin456\", \"123123123\") ]\n",
    "\n",
    "#veriler adlı liste içindeki bütün verileri kullanicilar adlı #tabloya yerleştiriyoruz. Burada tek öğeli bir demet #tanımladığımıza dikkat edin: (i,) for i in veriler: im.execute(\"\"\"INSERT INTO kullanicilar VALUES %s\"\"\" %(i,))\n",
    "\n",
    "#Yaptığımız değişikliklerin tabloya işlenebilmesi için #commit() metodunu kullanıyoruz. db.commit()\n",
    "\n",
    "#Kullanıcıdan kullanıcı adı ve parola bilgilerini alıyoruz... kull = input(\"Kullanıcı adınız: \") paro = input(\"Parolanız: \")\n",
    "\n",
    "#Burada yine bir SQL komutu işletiyoruz. Bu komut, kullanicilar #adlı tabloda yer alan kullanici_adi ve parola adlı sütunlardaki #bilgileri seçiyor. im.execute(\"\"\"SELECT * FROM kullanicilar WHERE kullanici_adi = '%s' AND parola = '%s'\"\"\"%(kull, paro))\n",
    "\n",
    "#Hatırlarsanız daha önce fetchall() adlı bir metottan #söz etmiştik. İşte bu fetchone() metodu da ona benzer. #fetchall() bütün verileri alıyordu, fetchone() ise #verileri tek tek alır. data = im.fetchone()\n",
    "\n",
    "#Eğer data adlı değişken False değilse, yani bu #değişkenin içinde bir değer varsa kullanıcı adı #ve parola doğru demektir. Kullanıcıyı içeri alıyoruz. if data: print(\"Programa hoşgeldin {}!\".format(data[0]))\n",
    "\n",
    "#Aksi halde kullanıcıya olumsuz bir mesaj veriyoruz. else: print(\"Parola veya kullanıcı adı yanlış!\")"
   ]
  }
 ],
 "metadata": {
  "kernelspec": {
   "display_name": "Python 3 (ipykernel)",
   "language": "python",
   "name": "python3"
  },
  "language_info": {
   "codemirror_mode": {
    "name": "ipython",
    "version": 3
   },
   "file_extension": ".py",
   "mimetype": "text/x-python",
   "name": "python",
   "nbconvert_exporter": "python",
   "pygments_lexer": "ipython3",
   "version": "3.11.8"
  }
 },
 "nbformat": 4,
 "nbformat_minor": 5
}
